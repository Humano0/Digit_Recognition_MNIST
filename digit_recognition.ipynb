{
 "cells": [
  {
   "cell_type": "code",
   "execution_count": null,
   "metadata": {},
   "outputs": [],
   "source": [
    "from sklearn.neighbors import KNeighborsClassifier\n",
    "#from sklearn.metrics import confusion_matrix, classification_report\n",
    "from sklearn.model_selection import train_test_split\n",
    "#from sklearn.preprocessing import OneHotEncoder\n",
    "import pandas as pd\n",
    "import numpy as np\n",
    "import warnings\n",
    "import random"
   ]
  },
  {
   "cell_type": "code",
   "execution_count": 252,
   "metadata": {},
   "outputs": [],
   "source": [
    "def split_dataset_to_train_test_validation(df_copy, train_sze, test_sze, validation_sze):\n",
    "    random.seed(0)\n",
    "    X = df_copy #Contains all columns\n",
    "    Y = df_copy[['label']]\n",
    "    X_train, X_temp, Y_train, Y_temp = train_test_split(X, Y, train_size=train_sze, random_state=50)\n",
    "    X_test, X_validation, Y_test, Y_validation = train_test_split(X_temp, Y_temp, train_size=test_sze/(test_sze+validation_sze), random_state=50)\n",
    "    return X_train, Y_train, X_test, Y_test, X_validation, Y_validation\n",
    "\n",
    "def append_before_column_names(df_copy):\n",
    "    column_list = ['label']\n",
    "    row, column = 1,1;\n",
    "    while row < 29:\n",
    "        while column < 29:\n",
    "            column_name = str(row) + 'x' + str(column)\n",
    "            new_column_name = '_' + column_name\n",
    "            column_list.append(new_column_name)\n",
    "            column+=1\n",
    "        row+=1;\n",
    "        if(column == 29):\n",
    "            column = 1\n",
    "            \n",
    "    df_copy.columns = column_list\n",
    "    return df_copy\n",
    "\n",
    "def new_column_names(df_copy):\n",
    "    column_list = ['label']\n",
    "    row, column = 1,1;\n",
    "    while row < 29:\n",
    "        while column < 29:\n",
    "            column_name = str(row) + 'x' + str(column)\n",
    "            column_list.append(column_name)\n",
    "            column+=1\n",
    "        row+=1;\n",
    "        if(column == 29):\n",
    "            column = 1\n",
    "            \n",
    "    df_copy.columns = column_list\n",
    "    return df_copy"
   ]
  },
  {
   "cell_type": "code",
   "execution_count": 253,
   "metadata": {},
   "outputs": [],
   "source": [
    "warnings.filterwarnings('ignore')\n",
    "df = pd.read_csv('MNIST.csv')"
   ]
  },
  {
   "cell_type": "code",
   "execution_count": 254,
   "metadata": {},
   "outputs": [
    {
     "name": "stdout",
     "output_type": "stream",
     "text": [
      "<bound method DataFrame.info of        7    0  0.1  0.2  0.3  0.4  0.5  0.6  0.7  0.8  ...  0.658  0.659  \\\n",
      "0      2  0.0  0.0  0.0  0.0  0.0  0.0  0.0  0.0  0.0  ...    0.0    0.0   \n",
      "1      1  0.0  0.0  0.0  0.0  0.0  0.0  0.0  0.0  0.0  ...    0.0    0.0   \n",
      "2      0  0.0  0.0  0.0  0.0  0.0  0.0  0.0  0.0  0.0  ...    0.0    0.0   \n",
      "3      4  0.0  0.0  0.0  0.0  0.0  0.0  0.0  0.0  0.0  ...    0.0    0.0   \n",
      "4      1  0.0  0.0  0.0  0.0  0.0  0.0  0.0  0.0  0.0  ...    0.0    0.0   \n",
      "...   ..  ...  ...  ...  ...  ...  ...  ...  ...  ...  ...    ...    ...   \n",
      "69995  3  0.0  0.0  0.0  0.0  0.0  0.0  0.0  0.0  0.0  ...    0.0    0.0   \n",
      "69996  5  0.0  0.0  0.0  0.0  0.0  0.0  0.0  0.0  0.0  ...    0.0    0.0   \n",
      "69997  6  0.0  0.0  0.0  0.0  0.0  0.0  0.0  0.0  0.0  ...    0.0    0.0   \n",
      "69998  8  0.0  0.0  0.0  0.0  0.0  0.0  0.0  0.0  0.0  ...    0.0    0.0   \n",
      "69999  \u001a  NaN  NaN  NaN  NaN  NaN  NaN  NaN  NaN  NaN  ...    NaN    NaN   \n",
      "\n",
      "       0.660  0.661  0.662  0.663  0.664  0.665  0.666  0.667  \n",
      "0        0.0    0.0    0.0    0.0    0.0    0.0    0.0    0.0  \n",
      "1        0.0    0.0    0.0    0.0    0.0    0.0    0.0    0.0  \n",
      "2        0.0    0.0    0.0    0.0    0.0    0.0    0.0    0.0  \n",
      "3        0.0    0.0    0.0    0.0    0.0    0.0    0.0    0.0  \n",
      "4        0.0    0.0    0.0    0.0    0.0    0.0    0.0    0.0  \n",
      "...      ...    ...    ...    ...    ...    ...    ...    ...  \n",
      "69995    0.0    0.0    0.0    0.0    0.0    0.0    0.0    0.0  \n",
      "69996    0.0    0.0    0.0    0.0    0.0    0.0    0.0    0.0  \n",
      "69997    0.0    0.0    0.0    0.0    0.0    0.0    0.0    0.0  \n",
      "69998    0.0    0.0    0.0    0.0    0.0    0.0    0.0    0.0  \n",
      "69999    NaN    NaN    NaN    NaN    NaN    NaN    NaN    NaN  \n",
      "\n",
      "[70000 rows x 785 columns]>\n"
     ]
    }
   ],
   "source": [
    "print(df.info)"
   ]
  },
  {
   "cell_type": "code",
   "execution_count": 256,
   "metadata": {},
   "outputs": [
    {
     "name": "stdout",
     "output_type": "stream",
     "text": [
      "<bound method DataFrame.info of        7    0  0.1  0.2  0.3  0.4  0.5  0.6  0.7  0.8  ...  0.658  0.659  \\\n",
      "0      2  0.0  0.0  0.0  0.0  0.0  0.0  0.0  0.0  0.0  ...    0.0    0.0   \n",
      "1      1  0.0  0.0  0.0  0.0  0.0  0.0  0.0  0.0  0.0  ...    0.0    0.0   \n",
      "2      0  0.0  0.0  0.0  0.0  0.0  0.0  0.0  0.0  0.0  ...    0.0    0.0   \n",
      "3      4  0.0  0.0  0.0  0.0  0.0  0.0  0.0  0.0  0.0  ...    0.0    0.0   \n",
      "4      1  0.0  0.0  0.0  0.0  0.0  0.0  0.0  0.0  0.0  ...    0.0    0.0   \n",
      "...   ..  ...  ...  ...  ...  ...  ...  ...  ...  ...  ...    ...    ...   \n",
      "69994  8  0.0  0.0  0.0  0.0  0.0  0.0  0.0  0.0  0.0  ...    0.0    0.0   \n",
      "69995  3  0.0  0.0  0.0  0.0  0.0  0.0  0.0  0.0  0.0  ...    0.0    0.0   \n",
      "69996  5  0.0  0.0  0.0  0.0  0.0  0.0  0.0  0.0  0.0  ...    0.0    0.0   \n",
      "69997  6  0.0  0.0  0.0  0.0  0.0  0.0  0.0  0.0  0.0  ...    0.0    0.0   \n",
      "69998  8  0.0  0.0  0.0  0.0  0.0  0.0  0.0  0.0  0.0  ...    0.0    0.0   \n",
      "\n",
      "       0.660  0.661  0.662  0.663  0.664  0.665  0.666  0.667  \n",
      "0        0.0    0.0    0.0    0.0    0.0    0.0    0.0    0.0  \n",
      "1        0.0    0.0    0.0    0.0    0.0    0.0    0.0    0.0  \n",
      "2        0.0    0.0    0.0    0.0    0.0    0.0    0.0    0.0  \n",
      "3        0.0    0.0    0.0    0.0    0.0    0.0    0.0    0.0  \n",
      "4        0.0    0.0    0.0    0.0    0.0    0.0    0.0    0.0  \n",
      "...      ...    ...    ...    ...    ...    ...    ...    ...  \n",
      "69994    0.0    0.0    0.0    0.0    0.0    0.0    0.0    0.0  \n",
      "69995    0.0    0.0    0.0    0.0    0.0    0.0    0.0    0.0  \n",
      "69996    0.0    0.0    0.0    0.0    0.0    0.0    0.0    0.0  \n",
      "69997    0.0    0.0    0.0    0.0    0.0    0.0    0.0    0.0  \n",
      "69998    0.0    0.0    0.0    0.0    0.0    0.0    0.0    0.0  \n",
      "\n",
      "[69999 rows x 785 columns]>\n"
     ]
    }
   ],
   "source": [
    "df=df.drop(69999)\n",
    "print(df.info);"
   ]
  },
  {
   "cell_type": "code",
   "execution_count": 263,
   "metadata": {},
   "outputs": [
    {
     "name": "stdout",
     "output_type": "stream",
     "text": [
      "      label  1x1  1x2  1x3  1x4  1x5  1x6  1x7  1x8  1x9  ...  28x19  28x20  \\\n",
      "0         2  0.0  0.0  0.0  0.0  0.0  0.0  0.0  0.0  0.0  ...    0.0    0.0   \n",
      "1         1  0.0  0.0  0.0  0.0  0.0  0.0  0.0  0.0  0.0  ...    0.0    0.0   \n",
      "2         0  0.0  0.0  0.0  0.0  0.0  0.0  0.0  0.0  0.0  ...    0.0    0.0   \n",
      "3         4  0.0  0.0  0.0  0.0  0.0  0.0  0.0  0.0  0.0  ...    0.0    0.0   \n",
      "4         1  0.0  0.0  0.0  0.0  0.0  0.0  0.0  0.0  0.0  ...    0.0    0.0   \n",
      "...     ...  ...  ...  ...  ...  ...  ...  ...  ...  ...  ...    ...    ...   \n",
      "69994     8  0.0  0.0  0.0  0.0  0.0  0.0  0.0  0.0  0.0  ...    0.0    0.0   \n",
      "69995     3  0.0  0.0  0.0  0.0  0.0  0.0  0.0  0.0  0.0  ...    0.0    0.0   \n",
      "69996     5  0.0  0.0  0.0  0.0  0.0  0.0  0.0  0.0  0.0  ...    0.0    0.0   \n",
      "69997     6  0.0  0.0  0.0  0.0  0.0  0.0  0.0  0.0  0.0  ...    0.0    0.0   \n",
      "69998     8  0.0  0.0  0.0  0.0  0.0  0.0  0.0  0.0  0.0  ...    0.0    0.0   \n",
      "\n",
      "       28x21  28x22  28x23  28x24  28x25  28x26  28x27  28x28  \n",
      "0        0.0    0.0    0.0    0.0    0.0    0.0    0.0    0.0  \n",
      "1        0.0    0.0    0.0    0.0    0.0    0.0    0.0    0.0  \n",
      "2        0.0    0.0    0.0    0.0    0.0    0.0    0.0    0.0  \n",
      "3        0.0    0.0    0.0    0.0    0.0    0.0    0.0    0.0  \n",
      "4        0.0    0.0    0.0    0.0    0.0    0.0    0.0    0.0  \n",
      "...      ...    ...    ...    ...    ...    ...    ...    ...  \n",
      "69994    0.0    0.0    0.0    0.0    0.0    0.0    0.0    0.0  \n",
      "69995    0.0    0.0    0.0    0.0    0.0    0.0    0.0    0.0  \n",
      "69996    0.0    0.0    0.0    0.0    0.0    0.0    0.0    0.0  \n",
      "69997    0.0    0.0    0.0    0.0    0.0    0.0    0.0    0.0  \n",
      "69998    0.0    0.0    0.0    0.0    0.0    0.0    0.0    0.0  \n",
      "\n",
      "[69999 rows x 785 columns]\n"
     ]
    }
   ],
   "source": [
    "df = new_column_names(df)\n",
    "print(df)"
   ]
  },
  {
   "cell_type": "code",
   "execution_count": 257,
   "metadata": {},
   "outputs": [],
   "source": [
    "#df = append_before_column_names(df)"
   ]
  },
  {
   "cell_type": "code",
   "execution_count": 258,
   "metadata": {},
   "outputs": [],
   "source": [
    "#print(df)\n",
    "#df.to_csv('new_minst.csv' ,index = False)\n",
    "#print(df)\n",
    "#data = pd.read_csv('new_minst.csv')"
   ]
  },
  {
   "cell_type": "code",
   "execution_count": 268,
   "metadata": {},
   "outputs": [],
   "source": [
    "X_train, Y_train, X_test, Y_test, X_validation, Y_validation = split_dataset_to_train_test_validation(df,0.6,0.2,0.2)\n",
    "X_train=X_train.drop('label', axis=1)\n",
    "X_test=X_test.drop('label', axis=1)\n",
    "X_validation=X_validation.drop('label', axis=1)\n",
    "Y_train = Y_train.astype(int)\n",
    "Y_test = Y_train.astype(int)\n",
    "Y_validation = Y_train.astype(int)"
   ]
  },
  {
   "cell_type": "code",
   "execution_count": 269,
   "metadata": {},
   "outputs": [
    {
     "name": "stdout",
     "output_type": "stream",
     "text": [
      "       1x1  1x2  1x3  1x4  1x5  1x6  1x7  1x8  1x9  1x10  ...  28x19  28x20  \\\n",
      "13101  0.0  0.0  0.0  0.0  0.0  0.0  0.0  0.0  0.0   0.0  ...    0.0    0.0   \n",
      "12741  0.0  0.0  0.0  0.0  0.0  0.0  0.0  0.0  0.0   0.0  ...    0.0    0.0   \n",
      "35748  0.0  0.0  0.0  0.0  0.0  0.0  0.0  0.0  0.0   0.0  ...    0.0    0.0   \n",
      "30634  0.0  0.0  0.0  0.0  0.0  0.0  0.0  0.0  0.0   0.0  ...    0.0    0.0   \n",
      "3505   0.0  0.0  0.0  0.0  0.0  0.0  0.0  0.0  0.0   0.0  ...    0.0    0.0   \n",
      "...    ...  ...  ...  ...  ...  ...  ...  ...  ...   ...  ...    ...    ...   \n",
      "55366  0.0  0.0  0.0  0.0  0.0  0.0  0.0  0.0  0.0   0.0  ...    0.0    0.0   \n",
      "59358  0.0  0.0  0.0  0.0  0.0  0.0  0.0  0.0  0.0   0.0  ...    0.0    0.0   \n",
      "48417  0.0  0.0  0.0  0.0  0.0  0.0  0.0  0.0  0.0   0.0  ...    0.0    0.0   \n",
      "22637  0.0  0.0  0.0  0.0  0.0  0.0  0.0  0.0  0.0   0.0  ...    0.0    0.0   \n",
      "14000  0.0  0.0  0.0  0.0  0.0  0.0  0.0  0.0  0.0   0.0  ...    0.0    0.0   \n",
      "\n",
      "       28x21  28x22  28x23  28x24  28x25  28x26  28x27  28x28  \n",
      "13101    0.0    0.0    0.0    0.0    0.0    0.0    0.0    0.0  \n",
      "12741    0.0    0.0    0.0    0.0    0.0    0.0    0.0    0.0  \n",
      "35748    0.0    0.0    0.0    0.0    0.0    0.0    0.0    0.0  \n",
      "30634    0.0    0.0    0.0    0.0    0.0    0.0    0.0    0.0  \n",
      "3505     0.0    0.0    0.0    0.0    0.0    0.0    0.0    0.0  \n",
      "...      ...    ...    ...    ...    ...    ...    ...    ...  \n",
      "55366    0.0    0.0    0.0    0.0    0.0    0.0    0.0    0.0  \n",
      "59358    0.0    0.0    0.0    0.0    0.0    0.0    0.0    0.0  \n",
      "48417    0.0    0.0    0.0    0.0    0.0    0.0    0.0    0.0  \n",
      "22637    0.0    0.0    0.0    0.0    0.0    0.0    0.0    0.0  \n",
      "14000    0.0    0.0    0.0    0.0    0.0    0.0    0.0    0.0  \n",
      "\n",
      "[41999 rows x 784 columns]\n",
      "       label\n",
      "13101      2\n",
      "12741      4\n",
      "35748      1\n",
      "30634      5\n",
      "3505       5\n",
      "...      ...\n",
      "55366      2\n",
      "59358      1\n",
      "48417      8\n",
      "22637      5\n",
      "14000      3\n",
      "\n",
      "[41999 rows x 1 columns]\n"
     ]
    }
   ],
   "source": [
    "print(X_train); print(Y_train)"
   ]
  },
  {
   "cell_type": "code",
   "execution_count": 270,
   "metadata": {},
   "outputs": [
    {
     "data": {
      "text/plain": [
       "KNeighborsClassifier()"
      ]
     },
     "execution_count": 270,
     "metadata": {},
     "output_type": "execute_result"
    }
   ],
   "source": [
    "#enc = OneHotEncoder()\n",
    "#enc.fit(X_train)\n",
    "kneigh = KNeighborsClassifier(n_neighbors=5)\n",
    "kneigh.fit(X_train,Y_train)"
   ]
  },
  {
   "cell_type": "code",
   "execution_count": null,
   "metadata": {},
   "outputs": [],
   "source": [
    "predict_train = kneigh.predict(X_train)\n",
    "predict_test = kneigh.predict(X_test)\n",
    "predict_validation = kneigh.predict(X_validation)"
   ]
  },
  {
   "cell_type": "code",
   "execution_count": null,
   "metadata": {},
   "outputs": [],
   "source": [
    "print('Confusion Matrix of Train Set:'); print(confusion_matrix(Y_train, predict_train))\n",
    "print('Classification Report of Train Set:'); print(classification_report(Y_train, predict_train))\n",
    "\n",
    "print('Confusion Matrix of Test Set:'); print(confusion_matrix(Y_test, predict_test))\n",
    "print('Classification Report of Test Set:'); print(classification_report(Y_test, predict_test))\n",
    "\n",
    "print('Confusion Matrix of Validation Set:'); print(confusion_matrix(Y_validation, predict_validation))\n",
    "print('Classification Report of Validation Set:'); print(classification_report(Y_validation, predict_validation))"
   ]
  },
  {
   "cell_type": "code",
   "execution_count": null,
   "metadata": {},
   "outputs": [],
   "source": []
  },
  {
   "cell_type": "code",
   "execution_count": null,
   "metadata": {},
   "outputs": [],
   "source": []
  }
 ],
 "metadata": {
  "kernelspec": {
   "display_name": "Python 3",
   "language": "python",
   "name": "python3"
  },
  "language_info": {
   "codemirror_mode": {
    "name": "ipython",
    "version": 3
   },
   "file_extension": ".py",
   "mimetype": "text/x-python",
   "name": "python",
   "nbconvert_exporter": "python",
   "pygments_lexer": "ipython3",
   "version": "3.7.11"
  }
 },
 "nbformat": 4,
 "nbformat_minor": 4
}
