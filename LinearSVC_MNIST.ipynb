{
 "cells": [
  {
   "cell_type": "code",
   "execution_count": 3,
   "id": "099d704e-bda7-478d-88e1-5a34f0795585",
   "metadata": {},
   "outputs": [],
   "source": [
    "import warnings\n",
    "import numpy as np\n",
    "import pandas as pd\n",
    "import matplotlib.pyplot as plt\n",
    "from sklearn.svm import LinearSVC\n",
    "from sklearn.metrics import accuracy_score, confusion_matrix, classification_report\n",
    "from sklearn import preprocessing"
   ]
  },
  {
   "cell_type": "code",
   "execution_count": 4,
   "id": "a94a97b7-a326-40a6-9a32-faf54f327c76",
   "metadata": {},
   "outputs": [],
   "source": [
    "warnings.filterwarnings('ignore')"
   ]
  },
  {
   "cell_type": "code",
   "execution_count": 5,
   "id": "c57a5ba6-885a-4d64-aee8-7ccef708b671",
   "metadata": {},
   "outputs": [],
   "source": [
    "df_train = pd.read_csv('MNIST_TRAIN.csv')\n",
    "df_test = pd.read_csv('MNIST_TEST.csv')"
   ]
  },
  {
   "cell_type": "code",
   "execution_count": 6,
   "id": "416b76fe-2813-4feb-8db5-e3680370d573",
   "metadata": {},
   "outputs": [
    {
     "name": "stdout",
     "output_type": "stream",
     "text": [
      "Number of NaN's in the training set: \n",
      "0\n",
      "Number of NaN's in the test set: \n",
      "0\n",
      "----------------------------------------\n",
      "Shape of training set: \n",
      "(60000, 785)\n",
      "Shape of test set: \n",
      "(10000, 785)\n",
      "----------------------------------------\n",
      "Summary of train set: \n",
      "         count      mean      std  min  25%  50%  75%   max\n",
      "label  60000.0  4.453933  2.88927  0.0  2.0  4.0  7.0   9.0\n",
      "1x1    60000.0  0.000000  0.00000  0.0  0.0  0.0  0.0   0.0\n",
      "1x2    60000.0  0.000000  0.00000  0.0  0.0  0.0  0.0   0.0\n",
      "1x3    60000.0  0.000000  0.00000  0.0  0.0  0.0  0.0   0.0\n",
      "1x4    60000.0  0.000000  0.00000  0.0  0.0  0.0  0.0   0.0\n",
      "...        ...       ...      ...  ...  ...  ...  ...   ...\n",
      "28x24  60000.0  0.002000  0.34660  0.0  0.0  0.0  0.0  62.0\n",
      "28x25  60000.0  0.000000  0.00000  0.0  0.0  0.0  0.0   0.0\n",
      "28x26  60000.0  0.000000  0.00000  0.0  0.0  0.0  0.0   0.0\n",
      "28x27  60000.0  0.000000  0.00000  0.0  0.0  0.0  0.0   0.0\n",
      "28x28  60000.0  0.000000  0.00000  0.0  0.0  0.0  0.0   0.0\n",
      "\n",
      "[785 rows x 8 columns]\n",
      "----------------------------------------\n",
      "Summary of test set: \n",
      "         count    mean       std  min  25%  50%  75%  max\n",
      "label  10000.0  4.4434  2.895865  0.0  2.0  4.0  7.0  9.0\n",
      "1x1    10000.0  0.0000  0.000000  0.0  0.0  0.0  0.0  0.0\n",
      "1x2    10000.0  0.0000  0.000000  0.0  0.0  0.0  0.0  0.0\n",
      "1x3    10000.0  0.0000  0.000000  0.0  0.0  0.0  0.0  0.0\n",
      "1x4    10000.0  0.0000  0.000000  0.0  0.0  0.0  0.0  0.0\n",
      "...        ...     ...       ...  ...  ...  ...  ...  ...\n",
      "28x24  10000.0  0.0000  0.000000  0.0  0.0  0.0  0.0  0.0\n",
      "28x25  10000.0  0.0000  0.000000  0.0  0.0  0.0  0.0  0.0\n",
      "28x26  10000.0  0.0000  0.000000  0.0  0.0  0.0  0.0  0.0\n",
      "28x27  10000.0  0.0000  0.000000  0.0  0.0  0.0  0.0  0.0\n",
      "28x28  10000.0  0.0000  0.000000  0.0  0.0  0.0  0.0  0.0\n",
      "\n",
      "[785 rows x 8 columns]\n"
     ]
    }
   ],
   "source": [
    "print('Number of NaN\\'s in the training set: '); print(df_train.isnull().sum().sum());\n",
    "print('Number of NaN\\'s in the test set: '); print(df_test.isnull().sum().sum());\n",
    "\n",
    "print('----------------------------------------')\n",
    "\n",
    "print('Shape of training set: '); print(df_train.shape);\n",
    "print('Shape of test set: '); print(df_test.shape);\n",
    "\n",
    "print('----------------------------------------')\n",
    "\n",
    "print('Summary of train set: '); print(df_train.describe().transpose());\n",
    "\n",
    "print('----------------------------------------')\n",
    "\n",
    "print('Summary of test set: '); print(df_test.describe().transpose());"
   ]
  },
  {
   "cell_type": "code",
   "execution_count": 7,
   "id": "0be560ab-1e08-416d-afdd-d4fca176b78d",
   "metadata": {},
   "outputs": [
    {
     "name": "stdout",
     "output_type": "stream",
     "text": [
      "   label\n",
      "0      5\n",
      "1      0\n",
      "2      4\n",
      "3      1\n",
      "4      9\n",
      "   label\n",
      "0      7\n",
      "1      2\n",
      "2      1\n",
      "3      0\n",
      "4      4\n"
     ]
    }
   ],
   "source": [
    "X_train = df_train.drop('label', axis = 1)\n",
    "X_test = df_test.drop('label', axis = 1)\n",
    "\n",
    "Y_train = df_train[['label']]\n",
    "Y_test = df_test[['label']]\n",
    "\n",
    "print(Y_train.head(5)); print(Y_test.head(5))"
   ]
  },
  {
   "cell_type": "code",
   "execution_count": 8,
   "id": "1834b3a5-7d9a-4b5c-aa97-43edd2aaaf7e",
   "metadata": {},
   "outputs": [],
   "source": [
    "#min_max_scaler = preprocessing.MinMaxScaler()\n",
    "standard_scaler = preprocessing.StandardScaler()\n",
    "X_train = standard_scaler.fit(X_train).transform(X_train)\n",
    "X_test = standard_scaler.transform(X_test)"
   ]
  },
  {
   "cell_type": "code",
   "execution_count": 9,
   "id": "16d3f0b2-69a8-4926-a5ab-80dbd931b84e",
   "metadata": {},
   "outputs": [],
   "source": [
    "mcclf = LinearSVC(verbose = True, loss = 'squared_hinge', max_iter = 5, C=1, dual=True, multi_class='ovr')"
   ]
  },
  {
   "cell_type": "code",
   "execution_count": 10,
   "id": "c0c4a3f5-df52-4b41-841d-0165aa3d96ca",
   "metadata": {},
   "outputs": [
    {
     "name": "stdout",
     "output_type": "stream",
     "text": [
      "[LibLinear]"
     ]
    },
    {
     "data": {
      "text/html": [
       "<style>#sk-container-id-1 {color: black;background-color: white;}#sk-container-id-1 pre{padding: 0;}#sk-container-id-1 div.sk-toggleable {background-color: white;}#sk-container-id-1 label.sk-toggleable__label {cursor: pointer;display: block;width: 100%;margin-bottom: 0;padding: 0.3em;box-sizing: border-box;text-align: center;}#sk-container-id-1 label.sk-toggleable__label-arrow:before {content: \"▸\";float: left;margin-right: 0.25em;color: #696969;}#sk-container-id-1 label.sk-toggleable__label-arrow:hover:before {color: black;}#sk-container-id-1 div.sk-estimator:hover label.sk-toggleable__label-arrow:before {color: black;}#sk-container-id-1 div.sk-toggleable__content {max-height: 0;max-width: 0;overflow: hidden;text-align: left;background-color: #f0f8ff;}#sk-container-id-1 div.sk-toggleable__content pre {margin: 0.2em;color: black;border-radius: 0.25em;background-color: #f0f8ff;}#sk-container-id-1 input.sk-toggleable__control:checked~div.sk-toggleable__content {max-height: 200px;max-width: 100%;overflow: auto;}#sk-container-id-1 input.sk-toggleable__control:checked~label.sk-toggleable__label-arrow:before {content: \"▾\";}#sk-container-id-1 div.sk-estimator input.sk-toggleable__control:checked~label.sk-toggleable__label {background-color: #d4ebff;}#sk-container-id-1 div.sk-label input.sk-toggleable__control:checked~label.sk-toggleable__label {background-color: #d4ebff;}#sk-container-id-1 input.sk-hidden--visually {border: 0;clip: rect(1px 1px 1px 1px);clip: rect(1px, 1px, 1px, 1px);height: 1px;margin: -1px;overflow: hidden;padding: 0;position: absolute;width: 1px;}#sk-container-id-1 div.sk-estimator {font-family: monospace;background-color: #f0f8ff;border: 1px dotted black;border-radius: 0.25em;box-sizing: border-box;margin-bottom: 0.5em;}#sk-container-id-1 div.sk-estimator:hover {background-color: #d4ebff;}#sk-container-id-1 div.sk-parallel-item::after {content: \"\";width: 100%;border-bottom: 1px solid gray;flex-grow: 1;}#sk-container-id-1 div.sk-label:hover label.sk-toggleable__label {background-color: #d4ebff;}#sk-container-id-1 div.sk-serial::before {content: \"\";position: absolute;border-left: 1px solid gray;box-sizing: border-box;top: 0;bottom: 0;left: 50%;z-index: 0;}#sk-container-id-1 div.sk-serial {display: flex;flex-direction: column;align-items: center;background-color: white;padding-right: 0.2em;padding-left: 0.2em;position: relative;}#sk-container-id-1 div.sk-item {position: relative;z-index: 1;}#sk-container-id-1 div.sk-parallel {display: flex;align-items: stretch;justify-content: center;background-color: white;position: relative;}#sk-container-id-1 div.sk-item::before, #sk-container-id-1 div.sk-parallel-item::before {content: \"\";position: absolute;border-left: 1px solid gray;box-sizing: border-box;top: 0;bottom: 0;left: 50%;z-index: -1;}#sk-container-id-1 div.sk-parallel-item {display: flex;flex-direction: column;z-index: 1;position: relative;background-color: white;}#sk-container-id-1 div.sk-parallel-item:first-child::after {align-self: flex-end;width: 50%;}#sk-container-id-1 div.sk-parallel-item:last-child::after {align-self: flex-start;width: 50%;}#sk-container-id-1 div.sk-parallel-item:only-child::after {width: 0;}#sk-container-id-1 div.sk-dashed-wrapped {border: 1px dashed gray;margin: 0 0.4em 0.5em 0.4em;box-sizing: border-box;padding-bottom: 0.4em;background-color: white;}#sk-container-id-1 div.sk-label label {font-family: monospace;font-weight: bold;display: inline-block;line-height: 1.2em;}#sk-container-id-1 div.sk-label-container {text-align: center;}#sk-container-id-1 div.sk-container {/* jupyter's `normalize.less` sets `[hidden] { display: none; }` but bootstrap.min.css set `[hidden] { display: none !important; }` so we also need the `!important` here to be able to override the default hidden behavior on the sphinx rendered scikit-learn.org. See: https://github.com/scikit-learn/scikit-learn/issues/21755 */display: inline-block !important;position: relative;}#sk-container-id-1 div.sk-text-repr-fallback {display: none;}</style><div id=\"sk-container-id-1\" class=\"sk-top-container\"><div class=\"sk-text-repr-fallback\"><pre>LinearSVC(C=1, max_iter=5, verbose=True)</pre><b>In a Jupyter environment, please rerun this cell to show the HTML representation or trust the notebook. <br />On GitHub, the HTML representation is unable to render, please try loading this page with nbviewer.org.</b></div><div class=\"sk-container\" hidden><div class=\"sk-item\"><div class=\"sk-estimator sk-toggleable\"><input class=\"sk-toggleable__control sk-hidden--visually\" id=\"sk-estimator-id-1\" type=\"checkbox\" checked><label for=\"sk-estimator-id-1\" class=\"sk-toggleable__label sk-toggleable__label-arrow\">LinearSVC</label><div class=\"sk-toggleable__content\"><pre>LinearSVC(C=1, max_iter=5, verbose=True)</pre></div></div></div></div></div>"
      ],
      "text/plain": [
       "LinearSVC(C=1, max_iter=5, verbose=True)"
      ]
     },
     "execution_count": 10,
     "metadata": {},
     "output_type": "execute_result"
    }
   ],
   "source": [
    "mcclf.fit(X_train, Y_train)"
   ]
  },
  {
   "cell_type": "code",
   "execution_count": 11,
   "id": "15c4e582-b979-4a57-9789-2040cce7585f",
   "metadata": {},
   "outputs": [],
   "source": [
    "predict_train = mcclf.predict(X_train)\n",
    "predict_test = mcclf.predict(X_test)"
   ]
  },
  {
   "cell_type": "code",
   "execution_count": 12,
   "id": "41c1f0ca-84c6-4006-ab5f-6ac08e7b33cf",
   "metadata": {},
   "outputs": [
    {
     "name": "stdout",
     "output_type": "stream",
     "text": [
      "Confusion Matrix of Train Set:\n",
      "[[5714    2   27   11   22   26   73   11   33    4]\n",
      " [   2 6499   36   35    8   47    9    8   74   24]\n",
      " [  98   64 5164  148   73   38  162   45  128   38]\n",
      " [  65   45  147 5284   15  294   61   44   82   94]\n",
      " [   8   37   68   20 5184   23   59   26   81  336]\n",
      " [  86   31   41  201  195 4499  150   44   88   86]\n",
      " [  44   32   30    4   30   82 5638    6   47    5]\n",
      " [  11   32   74  123   69   25   13 5165   76  677]\n",
      " [  77  198  111  401   80  295   56   33 4323  277]\n",
      " [  27   15   48  132  152   79   10  284  114 5088]]\n",
      "Classification Report of Train Set:\n",
      "              precision    recall  f1-score   support\n",
      "\n",
      "           0       0.93      0.96      0.95      5923\n",
      "           1       0.93      0.96      0.95      6742\n",
      "           2       0.90      0.87      0.88      5958\n",
      "           3       0.83      0.86      0.85      6131\n",
      "           4       0.89      0.89      0.89      5842\n",
      "           5       0.83      0.83      0.83      5421\n",
      "           6       0.90      0.95      0.93      5918\n",
      "           7       0.91      0.82      0.87      6265\n",
      "           8       0.86      0.74      0.79      5851\n",
      "           9       0.77      0.86      0.81      5949\n",
      "\n",
      "    accuracy                           0.88     60000\n",
      "   macro avg       0.88      0.87      0.87     60000\n",
      "weighted avg       0.88      0.88      0.88     60000\n",
      "\n",
      "------------------------------------------\n",
      "Confusion Matrix of Test Set:\n",
      "[[ 942    0    2    4    3    4   13    5    5    2]\n",
      " [   0 1101    4    5    2    2    4    0   16    1]\n",
      " [  20   14  860   37   14   11   29    8   32    7]\n",
      " [   9    2   22  893    0   48    8   10   11    7]\n",
      " [   1    5    8    5  874    2   14    8   10   55]\n",
      " [  12    4    4   45   22  742   23    9   20   11]\n",
      " [  13    6    4    1    4   15  903    1   10    1]\n",
      " [   0   11   16   32   10    9    2  820   10  118]\n",
      " [  16   22    9   69   19   53   15   12  708   51]\n",
      " [   9    5    8   22   28   13    2   38   15  869]]\n",
      "Classification Report of Test Set:\n",
      "              precision    recall  f1-score   support\n",
      "\n",
      "           0       0.92      0.96      0.94       980\n",
      "           1       0.94      0.97      0.96      1135\n",
      "           2       0.92      0.83      0.87      1032\n",
      "           3       0.80      0.88      0.84      1010\n",
      "           4       0.90      0.89      0.89       982\n",
      "           5       0.83      0.83      0.83       892\n",
      "           6       0.89      0.94      0.92       958\n",
      "           7       0.90      0.80      0.85      1028\n",
      "           8       0.85      0.73      0.78       974\n",
      "           9       0.77      0.86      0.82      1009\n",
      "\n",
      "    accuracy                           0.87     10000\n",
      "   macro avg       0.87      0.87      0.87     10000\n",
      "weighted avg       0.87      0.87      0.87     10000\n",
      "\n"
     ]
    }
   ],
   "source": [
    "print('Confusion Matrix of Train Set:'); print(confusion_matrix(Y_train, predict_train))\n",
    "print('Classification Report of Train Set:'); print(classification_report(Y_train, predict_train))\n",
    "\n",
    "print('------------------------------------------')\n",
    "\n",
    "print('Confusion Matrix of Test Set:'); print(confusion_matrix(Y_test, predict_test))\n",
    "print('Classification Report of Test Set:'); print(classification_report(Y_test, predict_test))"
   ]
  },
  {
   "cell_type": "code",
   "execution_count": 13,
   "id": "f019cccc-57fe-4c90-8557-4f24597035f7",
   "metadata": {},
   "outputs": [
    {
     "name": "stdout",
     "output_type": "stream",
     "text": [
      "Score of the train set: \n",
      "0.8759666666666667\n",
      "Score of the test set: \n",
      "0.8712\n"
     ]
    }
   ],
   "source": [
    "print('Score of the train set: '); print(mcclf.score(X_train, Y_train))\n",
    "print('Score of the test set: '); print(mcclf.score(X_test, Y_test))"
   ]
  },
  {
   "cell_type": "code",
   "execution_count": 14,
   "id": "b5c07496-5ece-454c-9061-a393e53c285a",
   "metadata": {},
   "outputs": [
    {
     "name": "stdout",
     "output_type": "stream",
     "text": [
      "[[   0    1    2    3    4    5    6    7    8    9]\n",
      " [5923 6742 5958 6131 5842 5421 5918 6265 5851 5949]]\n",
      "[[   0    1    2    3    4    5    6    7    8    9]\n",
      " [ 980 1135 1032 1010  982  892  958 1028  974 1009]]\n"
     ]
    }
   ],
   "source": [
    "Y_train_modified = Y_train.to_numpy()\n",
    "Y_test_modified = Y_test.to_numpy()\n",
    "\n",
    "Y_train_modified = np.sort(Y_train_modified, axis=0, kind = 'mergesort')\n",
    "Y_test_modified = np.sort(Y_test_modified, axis=0, kind = 'mergesort')\n",
    "\n",
    "print(np.array(np.unique(Y_train_modified, return_counts=True)))\n",
    "print(np.array(np.unique(Y_test_modified, return_counts=True)))"
   ]
  },
  {
   "cell_type": "code",
   "execution_count": 15,
   "id": "1e6b2e89-acfe-4083-9c9c-7ca5385ae6f6",
   "metadata": {},
   "outputs": [
    {
     "data": {
      "image/png": "[encoded data removed]",
      "text/plain": [
       "<Figure size 432x288 with 1 Axes>"
      ]
     },
     "metadata": {
      "needs_background": "light"
     },
     "output_type": "display_data"
    }
   ],
   "source": [
    "plt.title('Distribution of Numbers in Training Set')\n",
    "plt.bar(np.array(np.unique(Y_train_modified, return_counts=True))[0], np.array(np.unique(Y_train_modified, return_counts=True))[1])\n",
    "plt.show()"
   ]
  },
  {
   "cell_type": "code",
   "execution_count": 16,
   "id": "3abe75eb-5706-4c77-968d-44be402ecf71",
   "metadata": {},
   "outputs": [
    {
     "data": {
      "image/png": "[encoded data removed]",
      "text/plain": [
       "<Figure size 432x288 with 1 Axes>"
      ]
     },
     "metadata": {
      "needs_background": "light"
     },
     "output_type": "display_data"
    }
   ],
   "source": [
    "plt.title('Distribution of Numbers in Test Set')\n",
    "plt.bar(np.array(np.unique(Y_test_modified, return_counts=True))[0], np.array(np.unique(Y_test_modified, return_counts=True))[1])\n",
    "plt.show()"
   ]
  },
  {
   "cell_type": "code",
   "execution_count": null,
   "id": "140d532c-f4f8-4bf1-8832-bec0ea381947",
   "metadata": {},
   "outputs": [],
   "source": []
  },
  {
   "cell_type": "code",
   "execution_count": null,
   "id": "efe7eb35-6fae-4f1d-a222-d22abae8cabf",
   "metadata": {},
   "outputs": [],
   "source": []
  }
 ],
 "metadata": {
  "kernelspec": {
   "display_name": "Python 3 (ipykernel)",
   "language": "python",
   "name": "python3"
  },
  "language_info": {
   "codemirror_mode": {
    "name": "ipython",
    "version": 3
   },
   "file_extension": ".py",
   "mimetype": "text/x-python",
   "name": "python",
   "nbconvert_exporter": "python",
   "pygments_lexer": "ipython3",
   "version": "3.10.5"
  }
 },
 "nbformat": 4,
 "nbformat_minor": 5
}
