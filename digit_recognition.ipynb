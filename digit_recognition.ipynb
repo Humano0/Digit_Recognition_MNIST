{
 "cells": [
  {
   "cell_type": "code",
   "execution_count": 160,
   "metadata": {},
   "outputs": [],
   "source": [
    "from sklearn.neighbors import KNeighborsClassifier\n",
    "from sklearn.metrics import confusion_matrix, classification_report\n",
    "from sklearn.model_selection import train_test_split\n",
    "from sklearn import preprocessing\n",
    "import matplotlib.pyplot as plt\n",
    "#from sklearn.preprocessing import OneHotEncoder\n",
    "import pandas as pd\n",
    "import numpy as np\n",
    "import warnings\n",
    "import random"
   ]
  },
  {
   "cell_type": "code",
   "execution_count": 161,
   "metadata": {},
   "outputs": [],
   "source": [
    "def split_dataset_to_train_test_validation(df_copy, train_sze, test_sze, validation_sze):\n",
    "    random.seed(0)\n",
    "    X = df_copy #Contains all columns\n",
    "    Y = df_copy[['label']]\n",
    "    X_train, X_temp, Y_train, Y_temp = train_test_split(X, Y, train_size=0.6, random_state=50)\n",
    "    X_test, X_validation, Y_test, Y_validation = train_test_split(X_temp, Y_temp, train_size=0.5, random_state=50)\n",
    "    return X_train, Y_train, X_test, Y_test, X_validation, Y_validation\n",
    "\n",
    "def append_before_column_names(df_copy):\n",
    "    column_list = ['label']\n",
    "    row, column = 1,1;\n",
    "    while row < 29:\n",
    "        while column < 29:\n",
    "            column_name = str(row) + 'x' + str(column)\n",
    "            new_column_name = '_' + column_name\n",
    "            column_list.append(new_column_name)\n",
    "            column+=1\n",
    "        row+=1;\n",
    "        if(column == 29):\n",
    "            column = 1\n",
    "            \n",
    "    df_copy.columns = column_list\n",
    "    return df_copy\n",
    "\n",
    "def new_column_names(df_copy):\n",
    "    column_list = ['label']\n",
    "    row, column = 1,1;\n",
    "    while row < 29:\n",
    "        while column < 29:\n",
    "            column_name = str(row) + 'x' + str(column)\n",
    "            column_list.append(column_name)\n",
    "            column+=1\n",
    "        row+=1;\n",
    "        if(column == 29):\n",
    "            column = 1\n",
    "            \n",
    "    df_copy.columns = column_list\n",
    "    return df_copy"
   ]
  },
  {
   "cell_type": "code",
   "execution_count": 162,
   "metadata": {},
   "outputs": [],
   "source": [
    "warnings.filterwarnings('ignore')\n",
    "df_train = pd.read_csv('MNIST_TRAIN.csv')\n",
    "df_test = pd.read_csv('MNIST_TEST.csv')"
   ]
  },
  {
   "cell_type": "code",
   "execution_count": 163,
   "metadata": {},
   "outputs": [
    {
     "name": "stdout",
     "output_type": "stream",
     "text": [
      "<bound method DataFrame.info of        label  1x1  1x2  1x3  1x4  1x5  1x6  1x7  1x8  1x9  ...  28x19  28x20  \\\n",
      "0          5    0    0    0    0    0    0    0    0    0  ...      0      0   \n",
      "1          0    0    0    0    0    0    0    0    0    0  ...      0      0   \n",
      "2          4    0    0    0    0    0    0    0    0    0  ...      0      0   \n",
      "3          1    0    0    0    0    0    0    0    0    0  ...      0      0   \n",
      "4          9    0    0    0    0    0    0    0    0    0  ...      0      0   \n",
      "...      ...  ...  ...  ...  ...  ...  ...  ...  ...  ...  ...    ...    ...   \n",
      "59995      8    0    0    0    0    0    0    0    0    0  ...      0      0   \n",
      "59996      3    0    0    0    0    0    0    0    0    0  ...      0      0   \n",
      "59997      5    0    0    0    0    0    0    0    0    0  ...      0      0   \n",
      "59998      6    0    0    0    0    0    0    0    0    0  ...      0      0   \n",
      "59999      8    0    0    0    0    0    0    0    0    0  ...      0      0   \n",
      "\n",
      "       28x21  28x22  28x23  28x24  28x25  28x26  28x27  28x28  \n",
      "0          0      0      0      0      0      0      0      0  \n",
      "1          0      0      0      0      0      0      0      0  \n",
      "2          0      0      0      0      0      0      0      0  \n",
      "3          0      0      0      0      0      0      0      0  \n",
      "4          0      0      0      0      0      0      0      0  \n",
      "...      ...    ...    ...    ...    ...    ...    ...    ...  \n",
      "59995      0      0      0      0      0      0      0      0  \n",
      "59996      0      0      0      0      0      0      0      0  \n",
      "59997      0      0      0      0      0      0      0      0  \n",
      "59998      0      0      0      0      0      0      0      0  \n",
      "59999      0      0      0      0      0      0      0      0  \n",
      "\n",
      "[60000 rows x 785 columns]>\n",
      "<bound method DataFrame.info of       label  1x1  1x2  1x3  1x4  1x5  1x6  1x7  1x8  1x9  ...  28x19  28x20  \\\n",
      "0         7    0    0    0    0    0    0    0    0    0  ...      0      0   \n",
      "1         2    0    0    0    0    0    0    0    0    0  ...      0      0   \n",
      "2         1    0    0    0    0    0    0    0    0    0  ...      0      0   \n",
      "3         0    0    0    0    0    0    0    0    0    0  ...      0      0   \n",
      "4         4    0    0    0    0    0    0    0    0    0  ...      0      0   \n",
      "...     ...  ...  ...  ...  ...  ...  ...  ...  ...  ...  ...    ...    ...   \n",
      "9995      2    0    0    0    0    0    0    0    0    0  ...      0      0   \n",
      "9996      3    0    0    0    0    0    0    0    0    0  ...      0      0   \n",
      "9997      4    0    0    0    0    0    0    0    0    0  ...      0      0   \n",
      "9998      5    0    0    0    0    0    0    0    0    0  ...      0      0   \n",
      "9999      6    0    0    0    0    0    0    0    0    0  ...      0      0   \n",
      "\n",
      "      28x21  28x22  28x23  28x24  28x25  28x26  28x27  28x28  \n",
      "0         0      0      0      0      0      0      0      0  \n",
      "1         0      0      0      0      0      0      0      0  \n",
      "2         0      0      0      0      0      0      0      0  \n",
      "3         0      0      0      0      0      0      0      0  \n",
      "4         0      0      0      0      0      0      0      0  \n",
      "...     ...    ...    ...    ...    ...    ...    ...    ...  \n",
      "9995      0      0      0      0      0      0      0      0  \n",
      "9996      0      0      0      0      0      0      0      0  \n",
      "9997      0      0      0      0      0      0      0      0  \n",
      "9998      0      0      0      0      0      0      0      0  \n",
      "9999      0      0      0      0      0      0      0      0  \n",
      "\n",
      "[10000 rows x 785 columns]>\n"
     ]
    }
   ],
   "source": [
    "print(df_train.info); print(df_test.info)"
   ]
  },
  {
   "cell_type": "code",
   "execution_count": 164,
   "metadata": {},
   "outputs": [],
   "source": [
    "X_train = df_train.drop('label', axis=1)\n",
    "X_test = df_test.drop('label', axis=1)\n",
    "\n",
    "Y_train = df_train[['label']]\n",
    "Y_test = df_test[['label']]"
   ]
  },
  {
   "cell_type": "code",
   "execution_count": 165,
   "metadata": {},
   "outputs": [
    {
     "data": {
      "image/png": "[encoded data removed]",
      "text/plain": [
       "<Figure size 720x720 with 25 Axes>"
      ]
     },
     "metadata": {
      "needs_background": "light"
     },
     "output_type": "display_data"
    }
   ],
   "source": [
    "X = np.array(X_train).reshape(df_train.shape[0],28,28,1)\n",
    "Y = np.array(Y_train).reshape(df_train.shape[0],1)\n",
    "\n",
    "f, axes = plt.subplots(5, 5, sharey=True,figsize=(10,10))\n",
    "for i,ax in enumerate(axes.flat):\n",
    "    ax.axis('off')\n",
    "    ax.imshow(X[i,:,:,0],cmap=\"gray\")"
   ]
  },
  {
   "cell_type": "code",
   "execution_count": 166,
   "metadata": {},
   "outputs": [
    {
     "name": "stdout",
     "output_type": "stream",
     "text": [
      "(60000, 784)\n",
      "(60000, 1)\n",
      "(10000, 784)\n",
      "(10000, 1)\n"
     ]
    }
   ],
   "source": [
    "print(X_train.shape); print(Y_train.shape)\n",
    "print(X_test.shape); print(Y_test.shape)"
   ]
  },
  {
   "cell_type": "code",
   "execution_count": 167,
   "metadata": {},
   "outputs": [],
   "source": [
    "min_max_scaler = preprocessing.MinMaxScaler()\n",
    "X_train = min_max_scaler.fit_transform(X_train)\n",
    "X_test = min_max_scaler.fit_transform(X_test)"
   ]
  },
  {
   "cell_type": "code",
   "execution_count": 168,
   "metadata": {},
   "outputs": [
    {
     "data": {
      "text/plain": [
       "KNeighborsClassifier()"
      ]
     },
     "execution_count": 168,
     "metadata": {},
     "output_type": "execute_result"
    }
   ],
   "source": [
    "kneigh = KNeighborsClassifier(n_neighbors=5)\n",
    "kneigh.fit(X_train,Y_train)"
   ]
  },
  {
   "cell_type": "code",
   "execution_count": 169,
   "metadata": {},
   "outputs": [],
   "source": [
    "predict_train = kneigh.predict(X_train)\n",
    "predict_test = kneigh.predict(X_test)"
   ]
  },
  {
   "cell_type": "code",
   "execution_count": 170,
   "metadata": {},
   "outputs": [
    {
     "name": "stdout",
     "output_type": "stream",
     "text": [
      "Confusion Matrix of Train Set:\n",
      "[[5893    4    2    0    1    4   14    2    1    2]\n",
      " [   1 6721    7    0    0    0    1    9    1    2]\n",
      " [  24   36 5821   10    7    4    6   41    6    3]\n",
      " [   2   12   26 6001    0   34    2   21   17   16]\n",
      " [   3   39    1    1 5724    0    6    5    2   61]\n",
      " [  13    5    3   35    5 5301   39    3    3   14]\n",
      " [  11    9    0    0    4   12 5882    0    0    0]\n",
      " [   1   46   10    2    7    0    0 6165    0   34]\n",
      " [  15   59   10   40   20   52   14   11 5590   40]\n",
      " [  10    6    5   22   34    9    2   39    7 5815]]\n",
      "Classification Report of Train Set:\n",
      "              precision    recall  f1-score   support\n",
      "\n",
      "           0       0.99      0.99      0.99      5923\n",
      "           1       0.97      1.00      0.98      6742\n",
      "           2       0.99      0.98      0.98      5958\n",
      "           3       0.98      0.98      0.98      6131\n",
      "           4       0.99      0.98      0.98      5842\n",
      "           5       0.98      0.98      0.98      5421\n",
      "           6       0.99      0.99      0.99      5918\n",
      "           7       0.98      0.98      0.98      6265\n",
      "           8       0.99      0.96      0.97      5851\n",
      "           9       0.97      0.98      0.97      5949\n",
      "\n",
      "    accuracy                           0.98     60000\n",
      "   macro avg       0.98      0.98      0.98     60000\n",
      "weighted avg       0.98      0.98      0.98     60000\n",
      "\n",
      "------------------------------------------\n",
      "Confusion Matrix of Test Set:\n",
      "[[ 974    1    1    0    0    1    2    1    0    0]\n",
      " [   0 1133    2    0    0    0    0    0    0    0]\n",
      " [  11    8  991    2    1    0    1   15    3    0]\n",
      " [   0    3    3  976    1   13    1    6    3    4]\n",
      " [   3    7    0    0  944    0    4    2    1   21]\n",
      " [   5    0    0   12    2  862    4    1    2    4]\n",
      " [   5    3    0    0    3    2  945    0    0    0]\n",
      " [   0   22    4    0    3    0    0  988    0   11]\n",
      " [   8    3    5   13    6   12    5    5  913    4]\n",
      " [   5    7    3    9    7    3    1   10    2  962]]\n",
      "Classification Report of Test Set:\n",
      "              precision    recall  f1-score   support\n",
      "\n",
      "           0       0.96      0.99      0.98       980\n",
      "           1       0.95      1.00      0.98      1135\n",
      "           2       0.98      0.96      0.97      1032\n",
      "           3       0.96      0.97      0.97      1010\n",
      "           4       0.98      0.96      0.97       982\n",
      "           5       0.97      0.97      0.97       892\n",
      "           6       0.98      0.99      0.98       958\n",
      "           7       0.96      0.96      0.96      1028\n",
      "           8       0.99      0.94      0.96       974\n",
      "           9       0.96      0.95      0.95      1009\n",
      "\n",
      "    accuracy                           0.97     10000\n",
      "   macro avg       0.97      0.97      0.97     10000\n",
      "weighted avg       0.97      0.97      0.97     10000\n",
      "\n"
     ]
    }
   ],
   "source": [
    "print('Confusion Matrix of Train Set:'); print(confusion_matrix(Y_train, predict_train))\n",
    "print('Classification Report of Train Set:'); print(classification_report(Y_train, predict_train))\n",
    "\n",
    "print('------------------------------------------')\n",
    "\n",
    "print('Confusion Matrix of Test Set:'); print(confusion_matrix(Y_test, predict_test))\n",
    "print('Classification Report of Test Set:'); print(classification_report(Y_test, predict_test))"
   ]
  },
  {
   "cell_type": "code",
   "execution_count": 171,
   "metadata": {},
   "outputs": [
    {
     "name": "stdout",
     "output_type": "stream",
     "text": [
      "Score of the train set: \n",
      "0.9818833333333333\n",
      "Score of the test set: \n",
      "0.9688\n"
     ]
    }
   ],
   "source": [
    "print('Score of the train set: '); print(kneigh.score(X_train, Y_train))\n",
    "print('Score of the test set: '); print(kneigh.score(X_test, Y_test))"
   ]
  },
  {
   "cell_type": "code",
   "execution_count": 172,
   "metadata": {},
   "outputs": [
    {
     "ename": "NameError",
     "evalue": "name 'test_images' is not defined",
     "output_type": "error",
     "traceback": [
      "\u001b[0;31m---------------------------------------------------------------------------\u001b[0m",
      "\u001b[0;31mNameError\u001b[0m                                 Traceback (most recent call last)",
      "\u001b[0;32m/tmp/ipykernel_8490/2129982766.py\u001b[0m in \u001b[0;36m<module>\u001b[0;34m\u001b[0m\n\u001b[1;32m      2\u001b[0m \u001b[0;32mfor\u001b[0m \u001b[0mi\u001b[0m \u001b[0;32min\u001b[0m \u001b[0mrange\u001b[0m\u001b[0;34m(\u001b[0m\u001b[0;36m5\u001b[0m\u001b[0;34m)\u001b[0m\u001b[0;34m:\u001b[0m\u001b[0;34m\u001b[0m\u001b[0;34m\u001b[0m\u001b[0m\n\u001b[1;32m      3\u001b[0m     \u001b[0mfigure\u001b[0m\u001b[0;34m.\u001b[0m\u001b[0madd_subplot\u001b[0m\u001b[0;34m(\u001b[0m\u001b[0;36m1\u001b[0m\u001b[0;34m,\u001b[0m\u001b[0;36m5\u001b[0m\u001b[0;34m,\u001b[0m\u001b[0mi\u001b[0m\u001b[0;34m+\u001b[0m\u001b[0;36m1\u001b[0m\u001b[0;34m)\u001b[0m\u001b[0;34m\u001b[0m\u001b[0;34m\u001b[0m\u001b[0m\n\u001b[0;32m----> 4\u001b[0;31m     \u001b[0mplt\u001b[0m\u001b[0;34m.\u001b[0m\u001b[0mimshow\u001b[0m\u001b[0;34m(\u001b[0m\u001b[0mtest_images\u001b[0m\u001b[0;34m[\u001b[0m\u001b[0mi\u001b[0m\u001b[0;34m+\u001b[0m\u001b[0;36m50\u001b[0m\u001b[0;34m,\u001b[0m\u001b[0;34m:\u001b[0m\u001b[0;34m,\u001b[0m\u001b[0;34m:\u001b[0m\u001b[0;34m,\u001b[0m\u001b[0;36m0\u001b[0m\u001b[0;34m]\u001b[0m\u001b[0;34m,\u001b[0m\u001b[0mcmap\u001b[0m\u001b[0;34m=\u001b[0m\u001b[0;34m\"gray\"\u001b[0m\u001b[0;34m)\u001b[0m\u001b[0;34m\u001b[0m\u001b[0;34m\u001b[0m\u001b[0m\n\u001b[0m\u001b[1;32m      5\u001b[0m     \u001b[0mplt\u001b[0m\u001b[0;34m.\u001b[0m\u001b[0maxis\u001b[0m\u001b[0;34m(\u001b[0m\u001b[0;34m\"off\"\u001b[0m\u001b[0;34m)\u001b[0m\u001b[0;34m\u001b[0m\u001b[0;34m\u001b[0m\u001b[0m\n\u001b[1;32m      6\u001b[0m     \u001b[0mprint\u001b[0m\u001b[0;34m(\u001b[0m\u001b[0mnp\u001b[0m\u001b[0;34m.\u001b[0m\u001b[0msqueeze\u001b[0m\u001b[0;34m(\u001b[0m\u001b[0mnp\u001b[0m\u001b[0;34m.\u001b[0m\u001b[0margmax\u001b[0m\u001b[0;34m(\u001b[0m\u001b[0mmodel\u001b[0m\u001b[0;34m.\u001b[0m\u001b[0mpredict\u001b[0m\u001b[0;34m(\u001b[0m\u001b[0mtest_images\u001b[0m\u001b[0;34m[\u001b[0m\u001b[0mi\u001b[0m\u001b[0;34m+\u001b[0m\u001b[0;36m50\u001b[0m\u001b[0;34m]\u001b[0m\u001b[0;34m.\u001b[0m\u001b[0mreshape\u001b[0m\u001b[0;34m(\u001b[0m\u001b[0;36m1\u001b[0m\u001b[0;34m,\u001b[0m\u001b[0;36m28\u001b[0m\u001b[0;34m,\u001b[0m\u001b[0;36m28\u001b[0m\u001b[0;34m,\u001b[0m\u001b[0;36m1\u001b[0m\u001b[0;34m)\u001b[0m\u001b[0;34m)\u001b[0m\u001b[0;34m,\u001b[0m\u001b[0maxis\u001b[0m\u001b[0;34m=\u001b[0m\u001b[0;36m1\u001b[0m\u001b[0;34m)\u001b[0m\u001b[0;34m,\u001b[0m\u001b[0maxis\u001b[0m\u001b[0;34m=\u001b[0m\u001b[0;36m0\u001b[0m\u001b[0;34m)\u001b[0m\u001b[0;34m,\u001b[0m\u001b[0mend\u001b[0m\u001b[0;34m=\u001b[0m\u001b[0;34m\"\\t\"\u001b[0m\u001b[0;34m)\u001b[0m\u001b[0;34m\u001b[0m\u001b[0;34m\u001b[0m\u001b[0m\n",
      "\u001b[0;31mNameError\u001b[0m: name 'test_images' is not defined"
     ]
    },
    {
     "data": {
      "image/png": "[encoded data removed]",
      "text/plain": [
       "<Figure size 720x720 with 1 Axes>"
      ]
     },
     "metadata": {
      "needs_background": "light"
     },
     "output_type": "display_data"
    }
   ],
   "source": [
    "figure = plt.figure(figsize=(10,10)) \n",
    "for i in range(5):\n",
    "    figure.add_subplot(1,5,i+1)\n",
    "    plt.imshow(test_images[i+50,:,:,0],cmap=\"gray\")\n",
    "    plt.axis(\"off\")\n",
    "    print(np.squeeze(np.argmax(model.predict(test_images[i+50].reshape(1,28,28,1)),axis=1),axis=0),end=\"\\t\")"
   ]
  }
 ],
 "metadata": {
  "kernelspec": {
   "display_name": "Python 3",
   "language": "python",
   "name": "python3"
  },
  "language_info": {
   "codemirror_mode": {
    "name": "ipython",
    "version": 3
   },
   "file_extension": ".py",
   "mimetype": "text/x-python",
   "name": "python",
   "nbconvert_exporter": "python",
   "pygments_lexer": "ipython3",
   "version": "3.7.11"
  }
 },
 "nbformat": 4,
 "nbformat_minor": 4
}
