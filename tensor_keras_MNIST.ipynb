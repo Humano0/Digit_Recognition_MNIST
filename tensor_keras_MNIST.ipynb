{
 "cells": [
  {
   "cell_type": "code",
   "execution_count": 29,
   "metadata": {
    "tags": []
   },
   "outputs": [
    {
     "ename": "ImportError",
     "evalue": "cannot import name 'classification_report' from 'tensorflow.keras.metrics' (C:\\Users\\Eyüp\\AppData\\Local\\Programs\\Python\\Python310\\lib\\site-packages\\keras\\api\\_v2\\keras\\metrics\\__init__.py)",
     "output_type": "error",
     "traceback": [
      "\u001b[1;31m---------------------------------------------------------------------------\u001b[0m",
      "\u001b[1;31mImportError\u001b[0m                               Traceback (most recent call last)",
      "Input \u001b[1;32mIn [29]\u001b[0m, in \u001b[0;36m<cell line: 11>\u001b[1;34m()\u001b[0m\n\u001b[0;32m      9\u001b[0m \u001b[38;5;28;01mfrom\u001b[39;00m \u001b[38;5;21;01msklearn\u001b[39;00m\u001b[38;5;21;01m.\u001b[39;00m\u001b[38;5;21;01mmodel_selection\u001b[39;00m \u001b[38;5;28;01mimport\u001b[39;00m train_test_split\n\u001b[0;32m     10\u001b[0m \u001b[38;5;28;01mfrom\u001b[39;00m \u001b[38;5;21;01msklearn\u001b[39;00m\u001b[38;5;21;01m.\u001b[39;00m\u001b[38;5;21;01mmetrics\u001b[39;00m \u001b[38;5;28;01mimport\u001b[39;00m classification_report, confusion_matrix\n\u001b[1;32m---> 11\u001b[0m \u001b[38;5;28;01mfrom\u001b[39;00m \u001b[38;5;21;01mtensorflow\u001b[39;00m\u001b[38;5;21;01m.\u001b[39;00m\u001b[38;5;21;01mkeras\u001b[39;00m\u001b[38;5;21;01m.\u001b[39;00m\u001b[38;5;21;01mmetrics\u001b[39;00m \u001b[38;5;28;01mimport\u001b[39;00m classification_report\n",
      "\u001b[1;31mImportError\u001b[0m: cannot import name 'classification_report' from 'tensorflow.keras.metrics' (C:\\Users\\Eyüp\\AppData\\Local\\Programs\\Python\\Python310\\lib\\site-packages\\keras\\api\\_v2\\keras\\metrics\\__init__.py)"
     ]
    }
   ],
   "source": [
    "import warnings\n",
    "import numpy as np\n",
    "import pandas as pd\n",
    "import os\n",
    "import matplotlib.pyplot as plt\n",
    "from tensorflow.keras.layers import Dense, Dropout, Flatten\n",
    "from tensorflow.keras.layers import Conv2D, MaxPooling2D, Input\n",
    "from tensorflow.keras.models import Sequential\n",
    "from sklearn.model_selection import train_test_split\n",
    "from sklearn.metrics import classification_report, confusion_matrix\n",
    "from tensorflow.keras.metrics import classification_report"
   ]
  },
  {
   "cell_type": "code",
   "execution_count": 2,
   "metadata": {},
   "outputs": [],
   "source": [
    "def new_column_names(df_copy):\n",
    "    column_list = ['label']\n",
    "    row, column = 1,1;\n",
    "    while row < 29:\n",
    "        while column < 29:\n",
    "            column_name = str(row) + 'x' + str(column)\n",
    "            column_list.append(column_name)\n",
    "            column+=1\n",
    "        row+=1;\n",
    "        if(column == 29):\n",
    "            column = 1\n",
    "            \n",
    "    df_copy.columns = column_list\n",
    "    return df_copy\n",
    "\n",
    "def split_dataset_to_train_test_validation(df_copy, train_sze, test_sze, validation_sze):\n",
    "    random.seed(0)\n",
    "    target_column = ['label']\n",
    "    predictors = list(set(list(df.columns))-set(target_column))\n",
    "    X = df_copy[predictors] #Contains all columns\n",
    "    Y = df_copy[['label']]\n",
    "    X_train, X_temp, Y_train, Y_temp = train_test_split(X, Y, train_size=train_sze, random_state=50)\n",
    "    X_test, X_validation, Y_test, Y_validation = train_test_split(X_temp, Y_temp, train_size=test_sze/(test_sze+validation_sze), random_state=50)\n",
    "    return X_train, Y_train, X_test, Y_test, X_validation, Y_validation\n",
    "\n",
    "def normalizer(dataframe):\n",
    "    result = dataframe.copy()/255\n",
    "    return result\n",
    "\n",
    "def model():\n",
    "    inputs = Input(shape=(28,28,1))\n",
    "    Conv2D(24,kernel_size=(3,3),padding='same',activation=\"relu\", input_shape = (28,28,1))\n",
    "    MaxPooling2D(pool_size=(2, 2))\n",
    "    Conv2D(48, (3, 3), padding='same',activation='relu', input_shape = (28,28,1))\n",
    "    MaxPooling2D(pool_size=(2, 2))\n",
    "    Conv2D(64, (3, 3), padding='same',activation='relu', input_shape = (28,28,1))\n",
    "    MaxPooling2D(pool_size=(2, 2))\n",
    "    Flatten()\n",
    "    Dense(128, activation='relu')\n",
    "    Dropout(0.25)\n",
    "    output = Dense(10,activation=\"softmax\")\n",
    "    \n",
    "    model = Model(inputs,output)\n",
    "    \n",
    "    model.compile(loss='binary_crossentropy', \n",
    "              optimizer='adam', \n",
    "              metrics=['accuracy'])\n",
    "    \n",
    "    return model\n",
    "\n",
    "def sequential_model():\n",
    "    model = Sequential()\n",
    "    \n",
    "    inputs = Input(shape=(28,28,1))\n",
    "    \n",
    "    model.add(Dense(784,activation='sigmoid'))\n",
    "    \n",
    "    model.add(Conv2D(24,kernel_size=(3,3),padding='same',activation=\"relu\", input_shape = inputs))\n",
    "    model.add(MaxPooling2D(pool_size=(2, 2)))\n",
    "    \n",
    "    model.add(Conv2D(48, (3, 3), padding='same',activation='relu', input_shape = inputs))\n",
    "    model.add(MaxPooling2D(pool_size=(2, 2)))\n",
    "    \n",
    "    model.add(Conv2D(64, (3, 3), padding='same',activation='relu', input_shape = inputs))\n",
    "    model.add(MaxPooling2D(pool_size=(2, 2))) \n",
    "    model.add(Flatten())\n",
    "    \n",
    "    Dense(128, activation='relu')\n",
    "    \n",
    "    model.compile(loss='hinge', \n",
    "              optimizer='adam', \n",
    "              metrics=['accuracy'])\n",
    "    \n",
    "    return model"
   ]
  },
  {
   "cell_type": "code",
   "execution_count": 3,
   "metadata": {},
   "outputs": [],
   "source": [
    "warnings.filterwarnings('ignore')"
   ]
  },
  {
   "cell_type": "code",
   "execution_count": 35,
   "metadata": {},
   "outputs": [],
   "source": [
    "model = Sequential()\n",
    "    \n",
    "model.add(Dense(784,activation='relu'))\n",
    "model.add(Dense(64,activation='relu'))\n",
    "model.add(Dense(32,activation='relu'))\n",
    "model.add(Dense(10))\n",
    "\n",
    "model.compile(loss='MeanSquaredError', optimizer='adam', metrics=['accuracy'])"
   ]
  },
  {
   "cell_type": "code",
   "execution_count": 14,
   "metadata": {},
   "outputs": [],
   "source": [
    "df_train = pd.read_csv('MNIST_TRAIN.csv')\n",
    "df_test = pd.read_csv('MNIST_TEST.csv')"
   ]
  },
  {
   "cell_type": "code",
   "execution_count": 15,
   "metadata": {},
   "outputs": [
    {
     "name": "stdout",
     "output_type": "stream",
     "text": [
      "Numbers of NaN values in training set: \n",
      "0\n",
      "Numbers of NaN values in test set: \n",
      "0\n"
     ]
    }
   ],
   "source": [
    "print('Numbers of NaN values in training set: '); print(df_train.isnull().sum().sum()); \n",
    "print('Numbers of NaN values in test set: '); print(df_test.isnull().sum().sum());\n",
    "#print(df_train); print(df_test);"
   ]
  },
  {
   "cell_type": "code",
   "execution_count": 16,
   "metadata": {},
   "outputs": [],
   "source": [
    "X_train = df_train.drop('label', axis = 1)\n",
    "Y_train = df_train[['label']]\n",
    "\n",
    "X_test = df_test.drop('label', axis = 1)\n",
    "Y_test = df_test[['label']]\n",
    "\n",
    "X_train = normalizer(X_train); X_test = normalizer(X_test)"
   ]
  },
  {
   "cell_type": "code",
   "execution_count": 17,
   "metadata": {},
   "outputs": [
    {
     "name": "stdout",
     "output_type": "stream",
     "text": [
      "[[   0    1    2    3    4    5    6    7    8    9]\n",
      " [5923 6742 5958 6131 5842 5421 5918 6265 5851 5949]]\n",
      "[[   0    1    2    3    4    5    6    7    8    9]\n",
      " [ 980 1135 1032 1010  982  892  958 1028  974 1009]]\n"
     ]
    }
   ],
   "source": [
    "Y_train_modified = Y_train.to_numpy()\n",
    "Y_test_modified = Y_test.to_numpy()\n",
    "\n",
    "Y_train_modified = np.sort(Y_train_modified, axis=0, kind = 'mergesort')\n",
    "Y_test_modified = np.sort(Y_test_modified, axis=0, kind = 'mergesort')\n",
    "\n",
    "print(np.array(np.unique(Y_train_modified, return_counts=True)))\n",
    "print(np.array(np.unique(Y_test_modified, return_counts=True)))"
   ]
  },
  {
   "cell_type": "code",
   "execution_count": 18,
   "metadata": {},
   "outputs": [
    {
     "data": {
      "image/png": "[encoded data removed]",
      "text/plain": [
       "<Figure size 432x288 with 1 Axes>"
      ]
     },
     "metadata": {
      "needs_background": "light"
     },
     "output_type": "display_data"
    }
   ],
   "source": [
    "plt.title('Distribution of Numbers in Training Set')\n",
    "plt.bar(np.array(np.unique(Y_train_modified, return_counts=True))[0], np.array(np.unique(Y_train_modified, return_counts=True))[1])\n",
    "plt.show()"
   ]
  },
  {
   "cell_type": "code",
   "execution_count": 19,
   "metadata": {},
   "outputs": [
    {
     "data": {
      "image/png": "[encoded data removed]",
      "text/plain": [
       "<Figure size 432x288 with 1 Axes>"
      ]
     },
     "metadata": {
      "needs_background": "light"
     },
     "output_type": "display_data"
    }
   ],
   "source": [
    "plt.title('Distribution of Numbers in Test Set')\n",
    "plt.bar(np.array(np.unique(Y_test_modified, return_counts=True))[0], np.array(np.unique(Y_test_modified, return_counts=True))[1])\n",
    "plt.show()"
   ]
  },
  {
   "cell_type": "code",
   "execution_count": 20,
   "metadata": {},
   "outputs": [
    {
     "name": "stdout",
     "output_type": "stream",
     "text": [
      "1875/1875 [==============================] - 20s 10ms/step - loss: 0.1008 - accuracy: 0.0904\n"
     ]
    },
    {
     "data": {
      "text/plain": [
       "<keras.callbacks.History at 0x1d501029120>"
      ]
     },
     "execution_count": 20,
     "metadata": {},
     "output_type": "execute_result"
    }
   ],
   "source": [
    "model.fit(X_train.values, Y_train.values)"
   ]
  },
  {
   "cell_type": "code",
   "execution_count": 25,
   "metadata": {},
   "outputs": [
    {
     "name": "stdout",
     "output_type": "stream",
     "text": [
      "1875/1875 [==============================] - 9s 5ms/step\n",
      "313/313 [==============================] - 1s 5ms/step\n"
     ]
    }
   ],
   "source": [
    "predict_train = model.predict(X_train)\n",
    "predict_test = model.predict(X_test)"
   ]
  },
  {
   "cell_type": "code",
   "execution_count": 36,
   "metadata": {},
   "outputs": [
    {
     "name": "stdout",
     "output_type": "stream",
     "text": [
      "1875/1875 [==============================] - 7s 3ms/step - loss: 28.4315 - accuracy: 0.1026\n"
     ]
    },
    {
     "data": {
      "text/plain": [
       "[28.43147087097168, 0.1025666669011116]"
      ]
     },
     "execution_count": 36,
     "metadata": {},
     "output_type": "execute_result"
    }
   ],
   "source": [
    "model.evaluate(X_train, Y_train)"
   ]
  },
  {
   "cell_type": "code",
   "execution_count": null,
   "metadata": {},
   "outputs": [],
   "source": []
  }
 ],
 "metadata": {
  "kernelspec": {
   "display_name": "Python 3 (ipykernel)",
   "language": "python",
   "name": "python3"
  },
  "language_info": {
   "codemirror_mode": {
    "name": "ipython",
    "version": 3
   },
   "file_extension": ".py",
   "mimetype": "text/x-python",
   "name": "python",
   "nbconvert_exporter": "python",
   "pygments_lexer": "ipython3",
   "version": "3.10.5"
  }
 },
 "nbformat": 4,
 "nbformat_minor": 4
}
