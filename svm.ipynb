{
 "cells": [
  {
   "cell_type": "code",
   "execution_count": 154,
   "id": "099d704e-bda7-478d-88e1-5a34f0795585",
   "metadata": {},
   "outputs": [],
   "source": [
    "import warnings\n",
    "import numpy as np\n",
    "import pandas as pd\n",
    "import matplotlib.pyplot as plt\n",
    "from sklearn.svm import LinearSVC\n",
    "from sklearn.metrics import accuracy_score, confusion_matrix, classification_report\n",
    "from sklearn import preprocessing"
   ]
  },
  {
   "cell_type": "code",
   "execution_count": 155,
   "id": "a94a97b7-a326-40a6-9a32-faf54f327c76",
   "metadata": {},
   "outputs": [],
   "source": [
    "warnings.filterwarnings('ignore')"
   ]
  },
  {
   "cell_type": "code",
   "execution_count": 156,
   "id": "c57a5ba6-885a-4d64-aee8-7ccef708b671",
   "metadata": {},
   "outputs": [],
   "source": [
    "df_train = pd.read_csv('MNIST_TRAIN.csv')\n",
    "df_test = pd.read_csv('MNIST_TEST.csv')"
   ]
  },
  {
   "cell_type": "code",
   "execution_count": 157,
   "id": "416b76fe-2813-4feb-8db5-e3680370d573",
   "metadata": {},
   "outputs": [
    {
     "name": "stdout",
     "output_type": "stream",
     "text": [
      "Number of NaN's in the training set: \n",
      "0\n",
      "Number of NaN's in the test set: \n",
      "0\n",
      "----------------------------------------\n",
      "Shape of training set: \n",
      "(60000, 785)\n",
      "Shape of test set: \n",
      "(10000, 785)\n",
      "----------------------------------------\n",
      "Summary of train set: \n",
      "         count      mean      std  min  25%  50%  75%   max\n",
      "label  60000.0  4.453933  2.88927  0.0  2.0  4.0  7.0   9.0\n",
      "1x1    60000.0  0.000000  0.00000  0.0  0.0  0.0  0.0   0.0\n",
      "1x2    60000.0  0.000000  0.00000  0.0  0.0  0.0  0.0   0.0\n",
      "1x3    60000.0  0.000000  0.00000  0.0  0.0  0.0  0.0   0.0\n",
      "1x4    60000.0  0.000000  0.00000  0.0  0.0  0.0  0.0   0.0\n",
      "...        ...       ...      ...  ...  ...  ...  ...   ...\n",
      "28x24  60000.0  0.002000  0.34660  0.0  0.0  0.0  0.0  62.0\n",
      "28x25  60000.0  0.000000  0.00000  0.0  0.0  0.0  0.0   0.0\n",
      "28x26  60000.0  0.000000  0.00000  0.0  0.0  0.0  0.0   0.0\n",
      "28x27  60000.0  0.000000  0.00000  0.0  0.0  0.0  0.0   0.0\n",
      "28x28  60000.0  0.000000  0.00000  0.0  0.0  0.0  0.0   0.0\n",
      "\n",
      "[785 rows x 8 columns]\n",
      "----------------------------------------\n",
      "Summary of test set: \n",
      "         count    mean       std  min  25%  50%  75%  max\n",
      "label  10000.0  4.4434  2.895865  0.0  2.0  4.0  7.0  9.0\n",
      "1x1    10000.0  0.0000  0.000000  0.0  0.0  0.0  0.0  0.0\n",
      "1x2    10000.0  0.0000  0.000000  0.0  0.0  0.0  0.0  0.0\n",
      "1x3    10000.0  0.0000  0.000000  0.0  0.0  0.0  0.0  0.0\n",
      "1x4    10000.0  0.0000  0.000000  0.0  0.0  0.0  0.0  0.0\n",
      "...        ...     ...       ...  ...  ...  ...  ...  ...\n",
      "28x24  10000.0  0.0000  0.000000  0.0  0.0  0.0  0.0  0.0\n",
      "28x25  10000.0  0.0000  0.000000  0.0  0.0  0.0  0.0  0.0\n",
      "28x26  10000.0  0.0000  0.000000  0.0  0.0  0.0  0.0  0.0\n",
      "28x27  10000.0  0.0000  0.000000  0.0  0.0  0.0  0.0  0.0\n",
      "28x28  10000.0  0.0000  0.000000  0.0  0.0  0.0  0.0  0.0\n",
      "\n",
      "[785 rows x 8 columns]\n"
     ]
    }
   ],
   "source": [
    "print('Number of NaN\\'s in the training set: '); print(df_train.isnull().sum().sum());\n",
    "print('Number of NaN\\'s in the test set: '); print(df_test.isnull().sum().sum());\n",
    "\n",
    "print('----------------------------------------')\n",
    "\n",
    "print('Shape of training set: '); print(df_train.shape);\n",
    "print('Shape of test set: '); print(df_test.shape);\n",
    "\n",
    "print('----------------------------------------')\n",
    "\n",
    "print('Summary of train set: '); print(df_train.describe().transpose());\n",
    "\n",
    "print('----------------------------------------')\n",
    "\n",
    "print('Summary of test set: '); print(df_test.describe().transpose());"
   ]
  },
  {
   "cell_type": "code",
   "execution_count": 158,
   "id": "0be560ab-1e08-416d-afdd-d4fca176b78d",
   "metadata": {},
   "outputs": [
    {
     "name": "stdout",
     "output_type": "stream",
     "text": [
      "   label\n",
      "0      5\n",
      "1      0\n",
      "2      4\n",
      "3      1\n",
      "4      9\n",
      "   label\n",
      "0      7\n",
      "1      2\n",
      "2      1\n",
      "3      0\n",
      "4      4\n"
     ]
    }
   ],
   "source": [
    "X_train = df_train.drop('label', axis = 1)\n",
    "X_test = df_test.drop('label', axis = 1)\n",
    "\n",
    "Y_train = df_train[['label']]\n",
    "Y_test = df_test[['label']]\n",
    "\n",
    "print(Y_train.head(5)); print(Y_test.head(5))"
   ]
  },
  {
   "cell_type": "code",
   "execution_count": 159,
   "id": "1834b3a5-7d9a-4b5c-aa97-43edd2aaaf7e",
   "metadata": {},
   "outputs": [],
   "source": [
    "#min_max_scaler = preprocessing.MinMaxScaler()\n",
    "standard_scaler = preprocessing.StandardScaler()\n",
    "X_train = standard_scaler.fit(X_train).transform(X_train)\n",
    "X_test = standard_scaler.transform(X_test)"
   ]
  },
  {
   "cell_type": "code",
   "execution_count": 241,
   "id": "16d3f0b2-69a8-4926-a5ab-80dbd931b84e",
   "metadata": {},
   "outputs": [],
   "source": [
    "mcclf = LinearSVC(verbose = True, loss = 'squared_hinge', max_iter = 5, C=1, dual=True, multi_class='ovr')"
   ]
  },
  {
   "cell_type": "code",
   "execution_count": 242,
   "id": "c0c4a3f5-df52-4b41-841d-0165aa3d96ca",
   "metadata": {},
   "outputs": [
    {
     "name": "stdout",
     "output_type": "stream",
     "text": [
      "[LibLinear]\n",
      "optimization finished, #iter = 5\n",
      "\n",
      "WARNING: reaching max number of iterations\n",
      "Using -s 2 may be faster (also see FAQ)\n",
      "\n",
      "Objective value = -18.742492\n",
      "nSV = 6198\n",
      "\n",
      "optimization finished, #iter = 5\n",
      "\n",
      "WARNING: reaching max number of iterations\n",
      "Using -s 2 may be faster (also see FAQ)\n",
      "\n",
      "Objective value = -31.191312\n",
      "nSV = 6663\n",
      "\n",
      "optimization finished, #iter = 5\n",
      "\n",
      "WARNING: reaching max number of iterations\n",
      "Using -s 2 may be faster (also see FAQ)\n",
      "\n",
      "Objective value = -47.102244\n",
      "nSV = 12076\n",
      "\n",
      "optimization finished, #iter = 5\n",
      "\n",
      "WARNING: reaching max number of iterations\n",
      "Using -s 2 may be faster (also see FAQ)\n",
      "\n",
      "Objective value = -70.021747\n",
      "nSV = 13634\n",
      "\n",
      "optimization finished, #iter = 5\n",
      "\n",
      "WARNING: reaching max number of iterations\n",
      "Using -s 2 may be faster (also see FAQ)\n",
      "\n",
      "Objective value = -45.135199\n",
      "nSV = 8576\n",
      "\n",
      "optimization finished, #iter = 5\n",
      "\n",
      "WARNING: reaching max number of iterations\n",
      "Using -s 2 may be faster (also see FAQ)\n",
      "\n",
      "Objective value = -70.984825\n",
      "nSV = 13552\n",
      "\n",
      "optimization finished, #iter = 5\n",
      "\n",
      "WARNING: reaching max number of iterations\n",
      "Using -s 2 may be faster (also see FAQ)\n",
      "\n",
      "Objective value = -27.880904\n",
      "nSV = 7331\n",
      "\n",
      "optimization finished, #iter = 5\n",
      "\n",
      "WARNING: reaching max number of iterations\n",
      "Using -s 2 may be faster (also see FAQ)\n",
      "\n",
      "Objective value = -43.527158\n",
      "nSV = 9067\n",
      "\n",
      "optimization finished, #iter = 5\n",
      "\n",
      "WARNING: reaching max number of iterations\n",
      "Using -s 2 may be faster (also see FAQ)\n",
      "\n",
      "Objective value = -113.095024\n",
      "nSV = 17557\n",
      "\n",
      "optimization finished, #iter = 5\n",
      "\n",
      "WARNING: reaching max number of iterations\n",
      "Using -s 2 may be faster (also see FAQ)\n",
      "\n"
     ]
    },
    {
     "data": {
      "text/plain": [
       "LinearSVC(C=1, max_iter=5, verbose=True)"
      ]
     },
     "execution_count": 242,
     "metadata": {},
     "output_type": "execute_result"
    },
    {
     "name": "stdout",
     "output_type": "stream",
     "text": [
      "Objective value = -101.321981\n",
      "nSV = 14398\n"
     ]
    }
   ],
   "source": [
    "mcclf.fit(X_train, Y_train)"
   ]
  },
  {
   "cell_type": "code",
   "execution_count": 243,
   "id": "15c4e582-b979-4a57-9789-2040cce7585f",
   "metadata": {},
   "outputs": [],
   "source": [
    "predict_train = mcclf.predict(X_train)\n",
    "predict_test = mcclf.predict(X_test)"
   ]
  },
  {
   "cell_type": "code",
   "execution_count": 244,
   "id": "41c1f0ca-84c6-4006-ab5f-6ac08e7b33cf",
   "metadata": {},
   "outputs": [
    {
     "name": "stdout",
     "output_type": "stream",
     "text": [
      "Confusion Matrix of Train Set:\n",
      "[[5558    6   49   40   20  117   75   20   33    5]\n",
      " [   1 6590   26   17    4   24   13    9   52    6]\n",
      " [  31  110 5073  136  105   63  149   61  193   37]\n",
      " [  36   68  192 4940   21  499   53   64  186   72]\n",
      " [   7   66   41   39 5009  128   38   20  185  309]\n",
      " [  37   54   50  157  119 4658  105   22  171   48]\n",
      " [  26   49   63    7   29   98 5585    5   49    7]\n",
      " [   5   91   87   49   93  132   22 5590   28  168]\n",
      " [  62  174   91  124   31  273   54   27 4958   57]\n",
      " [  27   82   36  117  114  327   41  231  298 4676]]\n",
      "Classification Report of Train Set:\n",
      "              precision    recall  f1-score   support\n",
      "\n",
      "           0       0.96      0.94      0.95      5923\n",
      "           1       0.90      0.98      0.94      6742\n",
      "           2       0.89      0.85      0.87      5958\n",
      "           3       0.88      0.81      0.84      6131\n",
      "           4       0.90      0.86      0.88      5842\n",
      "           5       0.74      0.86      0.79      5421\n",
      "           6       0.91      0.94      0.93      5918\n",
      "           7       0.92      0.89      0.91      6265\n",
      "           8       0.81      0.85      0.83      5851\n",
      "           9       0.87      0.79      0.83      5949\n",
      "\n",
      "    accuracy                           0.88     60000\n",
      "   macro avg       0.88      0.88      0.88     60000\n",
      "weighted avg       0.88      0.88      0.88     60000\n",
      "\n",
      "------------------------------------------\n",
      "Confusion Matrix of Test Set:\n",
      "[[ 908    0    4    7    5   28   17    3    6    2]\n",
      " [   0 1119    2    1    0    1    4    0    8    0]\n",
      " [  10   18  856   24   18   12   23   16   48    7]\n",
      " [   6    6   29  822    1   96    6    9   29    6]\n",
      " [   1   10    6    3  849   12   11    6   30   54]\n",
      " [   5    4    2   21   13  773   21   13   36    4]\n",
      " [   8    5    8    4    8   21  896    0    7    1]\n",
      " [   1   26   19   11   15   24    1  894    5   32]\n",
      " [   8   17    3   21    6   35   15    9  849   11]\n",
      " [  10   18    2   22   16   58    8   25   71  779]]\n",
      "Classification Report of Test Set:\n",
      "              precision    recall  f1-score   support\n",
      "\n",
      "           0       0.95      0.93      0.94       980\n",
      "           1       0.91      0.99      0.95      1135\n",
      "           2       0.92      0.83      0.87      1032\n",
      "           3       0.88      0.81      0.84      1010\n",
      "           4       0.91      0.86      0.89       982\n",
      "           5       0.73      0.87      0.79       892\n",
      "           6       0.89      0.94      0.91       958\n",
      "           7       0.92      0.87      0.89      1028\n",
      "           8       0.78      0.87      0.82       974\n",
      "           9       0.87      0.77      0.82      1009\n",
      "\n",
      "    accuracy                           0.87     10000\n",
      "   macro avg       0.88      0.87      0.87     10000\n",
      "weighted avg       0.88      0.87      0.87     10000\n",
      "\n"
     ]
    }
   ],
   "source": [
    "print('Confusion Matrix of Train Set:'); print(confusion_matrix(Y_train, predict_train))\n",
    "print('Classification Report of Train Set:'); print(classification_report(Y_train, predict_train))\n",
    "\n",
    "print('------------------------------------------')\n",
    "\n",
    "print('Confusion Matrix of Test Set:'); print(confusion_matrix(Y_test, predict_test))\n",
    "print('Classification Report of Test Set:'); print(classification_report(Y_test, predict_test))"
   ]
  },
  {
   "cell_type": "code",
   "execution_count": 245,
   "id": "f019cccc-57fe-4c90-8557-4f24597035f7",
   "metadata": {},
   "outputs": [
    {
     "name": "stdout",
     "output_type": "stream",
     "text": [
      "Score of the train set: \n",
      "0.8772833333333333\n",
      "Score of the test set: \n",
      "0.8745\n"
     ]
    }
   ],
   "source": [
    "print('Score of the train set: '); print(mcclf.score(X_train, Y_train))\n",
    "print('Score of the test set: '); print(mcclf.score(X_test, Y_test))"
   ]
  },
  {
   "cell_type": "code",
   "execution_count": 246,
   "id": "b5c07496-5ece-454c-9061-a393e53c285a",
   "metadata": {},
   "outputs": [
    {
     "name": "stdout",
     "output_type": "stream",
     "text": [
      "[[   0    1    2    3    4    5    6    7    8    9]\n",
      " [5923 6742 5958 6131 5842 5421 5918 6265 5851 5949]]\n",
      "[[   0    1    2    3    4    5    6    7    8    9]\n",
      " [ 980 1135 1032 1010  982  892  958 1028  974 1009]]\n"
     ]
    }
   ],
   "source": [
    "Y_train_modified = Y_train.to_numpy()\n",
    "Y_test_modified = Y_test.to_numpy()\n",
    "\n",
    "Y_train_modified = np.sort(Y_train_modified, axis=0, kind = 'mergesort')\n",
    "Y_test_modified = np.sort(Y_test_modified, axis=0, kind = 'mergesort')\n",
    "\n",
    "print(np.array(np.unique(Y_train_modified, return_counts=True)))\n",
    "print(np.array(np.unique(Y_test_modified, return_counts=True)))"
   ]
  },
  {
   "cell_type": "code",
   "execution_count": 237,
   "id": "1e6b2e89-acfe-4083-9c9c-7ca5385ae6f6",
   "metadata": {},
   "outputs": [
    {
     "data": {
      "text/plain": [
       "<BarContainer object of 10 artists>"
      ]
     },
     "execution_count": 237,
     "metadata": {},
     "output_type": "execute_result"
    },
    {
     "data": {
      "image/png": "[encoded data removed]",
      "text/plain": [
       "<Figure size 432x288 with 1 Axes>"
      ]
     },
     "metadata": {
      "needs_background": "light"
     },
     "output_type": "display_data"
    }
   ],
   "source": [
    "plt.title('Distribution of Numbers in Training Set')\n",
    "plt.bar(np.array(np.unique(Y_train_modified, return_counts=True))[0], np.array(np.unique(Y_train_modified, return_counts=True))[1])"
   ]
  },
  {
   "cell_type": "code",
   "execution_count": 238,
   "id": "3abe75eb-5706-4c77-968d-44be402ecf71",
   "metadata": {},
   "outputs": [
    {
     "data": {
      "text/plain": [
       "<BarContainer object of 10 artists>"
      ]
     },
     "execution_count": 238,
     "metadata": {},
     "output_type": "execute_result"
    },
    {
     "data": {
      "image/png": "[encoded data removed]",
      "text/plain": [
       "<Figure size 432x288 with 1 Axes>"
      ]
     },
     "metadata": {
      "needs_background": "light"
     },
     "output_type": "display_data"
    }
   ],
   "source": [
    "plt.title('Distribution of Numbers in Test Set')\n",
    "plt.bar(np.array(np.unique(Y_test_modified, return_counts=True))[0], np.array(np.unique(Y_test_modified, return_counts=True))[1])"
   ]
  },
  {
   "cell_type": "code",
   "execution_count": null,
   "id": "140d532c-f4f8-4bf1-8832-bec0ea381947",
   "metadata": {},
   "outputs": [],
   "source": []
  },
  {
   "cell_type": "code",
   "execution_count": null,
   "id": "efe7eb35-6fae-4f1d-a222-d22abae8cabf",
   "metadata": {},
   "outputs": [],
   "source": []
  }
 ],
 "metadata": {
  "kernelspec": {
   "display_name": "Python 3",
   "language": "python",
   "name": "python3"
  },
  "language_info": {
   "codemirror_mode": {
    "name": "ipython",
    "version": 3
   },
   "file_extension": ".py",
   "mimetype": "text/x-python",
   "name": "python",
   "nbconvert_exporter": "python",
   "pygments_lexer": "ipython3",
   "version": "3.7.11"
  }
 },
 "nbformat": 4,
 "nbformat_minor": 5
}
