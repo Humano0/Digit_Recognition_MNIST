{
 "cells": [
  {
   "cell_type": "code",
   "execution_count": 4,
   "metadata": {},
   "outputs": [],
   "source": [
    "import pandas as pd\n",
    "import numpy as np\n",
    "import random\n",
    "import tensorflow as tf\n",
    "from tensorflow import keras\n",
    "from tensorflow.keras.models import Sequential\n",
    "from tensorflow.keras.layers import Dense\n",
    "from tensorflow.keras import layers\n",
    "import tensorflow.keras as keras\n",
    "from sklearn.model_selection import train_test_split\n",
    "import warnings\n",
    "from sklearn.preprocessing import normalize"
   ]
  },
  {
   "cell_type": "code",
   "execution_count": 16,
   "metadata": {},
   "outputs": [],
   "source": [
    "def new_column_names(df_copy):\n",
    "    column_list = ['label']\n",
    "    row, column = 1,1;\n",
    "    while row < 29:\n",
    "        while column < 29:\n",
    "            column_name = str(row) + 'x' + str(column)\n",
    "            column_list.append(column_name)\n",
    "            column+=1\n",
    "        row+=1;\n",
    "        if(column == 29):\n",
    "            column = 1\n",
    "            \n",
    "    df_copy.columns = column_list\n",
    "    return df_copy\n",
    "\n",
    "def split_dataset_to_train_test_validation(df_copy, train_sze, test_sze, validation_sze):\n",
    "    random.seed(0)\n",
    "    target_column = ['label']\n",
    "    predictors = list(set(list(df.columns))-set(target_column))\n",
    "    X = df_copy[predictors] #Contains all columns\n",
    "    Y = df_copy[['label']]\n",
    "    X_train, X_temp, Y_train, Y_temp = train_test_split(X, Y, train_size=train_sze, random_state=50)\n",
    "    X_test, X_validation, Y_test, Y_validation = train_test_split(X_temp, Y_temp, train_size=test_sze/(test_sze+validation_sze), random_state=50)\n",
    "    return X_train, Y_train, X_test, Y_test, X_validation, Y_validation\n",
    "\n",
    "def normalizer(dataframe):\n",
    "    result = dataframe.copy()/255\n",
    "    return result"
   ]
  },
  {
   "cell_type": "code",
   "execution_count": 17,
   "metadata": {},
   "outputs": [],
   "source": [
    "warnings.filterwarnings('ignore')\n",
    "model = Sequential()\n",
    "model.add(Dense(784, activation = 'sigmoid', name = 'Input_Layer'))\n",
    "model.add(Dense(15, activation = 'sigmoid', name = 'Hidden_Layer_1'))\n",
    "model.add(Dense(15, activation = 'sigmoid', name = 'Hidden_Layer_2'))\n",
    "model.add(Dense(10))"
   ]
  },
  {
   "cell_type": "code",
   "execution_count": 18,
   "metadata": {},
   "outputs": [],
   "source": [
    "df_train = pd.read_csv('MNIST_TRAIN.csv')\n",
    "df_test = pd.read_csv('MNIST_TEST.csv')"
   ]
  },
  {
   "cell_type": "code",
   "execution_count": 19,
   "metadata": {},
   "outputs": [
    {
     "name": "stdout",
     "output_type": "stream",
     "text": [
      "Numbers of NaN values in training set: \n",
      "0\n",
      "Numbers of NaN values in test set: \n",
      "0\n",
      "       label  1x1  1x2  1x3  1x4  1x5  1x6  1x7  1x8  1x9  ...  28x19  28x20  \\\n",
      "0          5    0    0    0    0    0    0    0    0    0  ...      0      0   \n",
      "1          0    0    0    0    0    0    0    0    0    0  ...      0      0   \n",
      "2          4    0    0    0    0    0    0    0    0    0  ...      0      0   \n",
      "3          1    0    0    0    0    0    0    0    0    0  ...      0      0   \n",
      "4          9    0    0    0    0    0    0    0    0    0  ...      0      0   \n",
      "...      ...  ...  ...  ...  ...  ...  ...  ...  ...  ...  ...    ...    ...   \n",
      "59995      8    0    0    0    0    0    0    0    0    0  ...      0      0   \n",
      "59996      3    0    0    0    0    0    0    0    0    0  ...      0      0   \n",
      "59997      5    0    0    0    0    0    0    0    0    0  ...      0      0   \n",
      "59998      6    0    0    0    0    0    0    0    0    0  ...      0      0   \n",
      "59999      8    0    0    0    0    0    0    0    0    0  ...      0      0   \n",
      "\n",
      "       28x21  28x22  28x23  28x24  28x25  28x26  28x27  28x28  \n",
      "0          0      0      0      0      0      0      0      0  \n",
      "1          0      0      0      0      0      0      0      0  \n",
      "2          0      0      0      0      0      0      0      0  \n",
      "3          0      0      0      0      0      0      0      0  \n",
      "4          0      0      0      0      0      0      0      0  \n",
      "...      ...    ...    ...    ...    ...    ...    ...    ...  \n",
      "59995      0      0      0      0      0      0      0      0  \n",
      "59996      0      0      0      0      0      0      0      0  \n",
      "59997      0      0      0      0      0      0      0      0  \n",
      "59998      0      0      0      0      0      0      0      0  \n",
      "59999      0      0      0      0      0      0      0      0  \n",
      "\n",
      "[60000 rows x 785 columns]\n",
      "      label  1x1  1x2  1x3  1x4  1x5  1x6  1x7  1x8  1x9  ...  28x19  28x20  \\\n",
      "0         7    0    0    0    0    0    0    0    0    0  ...      0      0   \n",
      "1         2    0    0    0    0    0    0    0    0    0  ...      0      0   \n",
      "2         1    0    0    0    0    0    0    0    0    0  ...      0      0   \n",
      "3         0    0    0    0    0    0    0    0    0    0  ...      0      0   \n",
      "4         4    0    0    0    0    0    0    0    0    0  ...      0      0   \n",
      "...     ...  ...  ...  ...  ...  ...  ...  ...  ...  ...  ...    ...    ...   \n",
      "9995      2    0    0    0    0    0    0    0    0    0  ...      0      0   \n",
      "9996      3    0    0    0    0    0    0    0    0    0  ...      0      0   \n",
      "9997      4    0    0    0    0    0    0    0    0    0  ...      0      0   \n",
      "9998      5    0    0    0    0    0    0    0    0    0  ...      0      0   \n",
      "9999      6    0    0    0    0    0    0    0    0    0  ...      0      0   \n",
      "\n",
      "      28x21  28x22  28x23  28x24  28x25  28x26  28x27  28x28  \n",
      "0         0      0      0      0      0      0      0      0  \n",
      "1         0      0      0      0      0      0      0      0  \n",
      "2         0      0      0      0      0      0      0      0  \n",
      "3         0      0      0      0      0      0      0      0  \n",
      "4         0      0      0      0      0      0      0      0  \n",
      "...     ...    ...    ...    ...    ...    ...    ...    ...  \n",
      "9995      0      0      0      0      0      0      0      0  \n",
      "9996      0      0      0      0      0      0      0      0  \n",
      "9997      0      0      0      0      0      0      0      0  \n",
      "9998      0      0      0      0      0      0      0      0  \n",
      "9999      0      0      0      0      0      0      0      0  \n",
      "\n",
      "[10000 rows x 785 columns]\n"
     ]
    }
   ],
   "source": [
    "print('Numbers of NaN values in training set: '); print(df_train.isnull().sum().sum()); \n",
    "print('Numbers of NaN values in test set: '); print(df_test.isnull().sum().sum());\n",
    "print(df_train); print(df_test);"
   ]
  },
  {
   "cell_type": "code",
   "execution_count": 23,
   "metadata": {},
   "outputs": [],
   "source": [
    "test_column = ['label']\n",
    "train_columns = list(set(list(df_train.columns))-set(test_column))\n",
    "\n",
    "X_train = df_train[train_columns]\n",
    "Y_train = df_train[test_column]\n",
    "\n",
    "X_test = df_test[train_columns]\n",
    "Y_test = df_test[test_column]\n",
    "\n",
    "X_train = normalizer(X_train)\n",
    "X_test = normalizer(X_test)"
   ]
  },
  {
   "cell_type": "code",
   "execution_count": 28,
   "metadata": {},
   "outputs": [
    {
     "name": "stdout",
     "output_type": "stream",
     "text": [
      "Epoch 1/3\n",
      "1875/1875 [==============================] - 21s 11ms/step - loss: 0.0987\n",
      "Epoch 2/3\n",
      "1875/1875 [==============================] - 20s 11ms/step - loss: 0.0987\n",
      "Epoch 3/3\n",
      "1875/1875 [==============================] - 20s 11ms/step - loss: 0.0987\n"
     ]
    },
    {
     "data": {
      "text/plain": [
       "<keras.callbacks.History at 0x2179a7d72e0>"
      ]
     },
     "execution_count": 28,
     "metadata": {},
     "output_type": "execute_result"
    }
   ],
   "source": [
    "model.compile(loss = 'hinge')\n",
    "model.fit(X_train, Y_train, epochs = 3)"
   ]
  },
  {
   "cell_type": "code",
   "execution_count": 29,
   "metadata": {},
   "outputs": [
    {
     "name": "stdout",
     "output_type": "stream",
     "text": [
      "313/313 [==============================] - 1s 3ms/step\n"
     ]
    },
    {
     "data": {
      "text/plain": [
       "array([[7.9083347, 7.949467 , 7.9903893, ..., 7.9297385, 7.9249506,\n",
       "        7.9555683],\n",
       "       [3.6634128, 3.606351 , 3.4847872, ..., 3.6443071, 3.6721945,\n",
       "        3.6461403],\n",
       "       [4.5236425, 4.54261  , 4.49935  , ..., 4.526302 , 4.538836 ,\n",
       "        4.5137043],\n",
       "       ...,\n",
       "       [7.538947 , 7.591529 , 7.610213 , ..., 7.558853 , 7.550881 ,\n",
       "        7.5741987],\n",
       "       [7.380696 , 7.4705586, 7.462289 , ..., 7.408673 , 7.3887224,\n",
       "        7.425794 ],\n",
       "       [6.294908 , 6.33504  , 6.300802 , ..., 6.2822485, 6.2540226,\n",
       "        6.2847247]], dtype=float32)"
      ]
     },
     "execution_count": 29,
     "metadata": {},
     "output_type": "execute_result"
    }
   ],
   "source": [
    "model.predict(X_test)"
   ]
  },
  {
   "cell_type": "code",
   "execution_count": null,
   "metadata": {},
   "outputs": [],
   "source": []
  },
  {
   "cell_type": "code",
   "execution_count": 48,
   "metadata": {},
   "outputs": [
    {
     "name": "stdout",
     "output_type": "stream",
     "text": [
      "Model: \"sequential_1\"\n",
      "_________________________________________________________________\n",
      " Layer (type)                Output Shape              Param #   \n",
      "=================================================================\n",
      " Input_Layer (Dense)         (None, 784)               615440    \n",
      "                                                                 \n",
      " Hidden_Layer_1 (Dense)      (None, 15)                11775     \n",
      "                                                                 \n",
      " Hidden_Layer_2 (Dense)      (None, 15)                240       \n",
      "                                                                 \n",
      " dense_1 (Dense)             (None, 10)                160       \n",
      "                                                                 \n",
      "=================================================================\n",
      "Total params: 627,615\n",
      "Trainable params: 627,615\n",
      "Non-trainable params: 0\n",
      "_________________________________________________________________\n"
     ]
    }
   ],
   "source": [
    "model.summary()"
   ]
  },
  {
   "cell_type": "code",
   "execution_count": 49,
   "metadata": {},
   "outputs": [],
   "source": [
    "from platform import python_version"
   ]
  },
  {
   "cell_type": "code",
   "execution_count": 50,
   "metadata": {},
   "outputs": [
    {
     "data": {
      "text/plain": [
       "'3.10.5'"
      ]
     },
     "execution_count": 50,
     "metadata": {},
     "output_type": "execute_result"
    }
   ],
   "source": [
    "python_version()"
   ]
  },
  {
   "cell_type": "code",
   "execution_count": 51,
   "metadata": {},
   "outputs": [
    {
     "name": "stdout",
     "output_type": "stream",
     "text": [
      "Package                      Version\n",
      "---------------------------- -----------\n",
      "absl-py                      1.1.0\n",
      "anyio                        3.6.1\n",
      "argon2-cffi                  21.3.0\n",
      "argon2-cffi-bindings         21.2.0\n",
      "asttokens                    2.0.5\n",
      "astunparse                   1.6.3\n",
      "attrs                        21.4.0\n",
      "Babel                        2.10.3\n",
      "backcall                     0.2.0\n",
      "beautifulsoup4               4.11.1\n",
      "bleach                       5.0.0\n",
      "cachetools                   5.2.0\n",
      "certifi                      2022.6.15\n",
      "cffi                         1.15.0\n",
      "charset-normalizer           2.0.12\n",
      "colorama                     0.4.5\n",
      "cycler                       0.11.0\n",
      "debugpy                      1.6.0\n",
      "decorator                    5.1.1\n",
      "defusedxml                   0.7.1\n",
      "entrypoints                  0.4\n",
      "executing                    0.8.3\n",
      "fastjsonschema               2.15.3\n",
      "flatbuffers                  1.12\n",
      "fonttools                    4.33.3\n",
      "gast                         0.4.0\n",
      "gitdb                        4.0.9\n",
      "GitPython                    3.1.27\n",
      "google-auth                  2.8.0\n",
      "google-auth-oauthlib         0.4.6\n",
      "google-pasta                 0.2.0\n",
      "grpcio                       1.47.0\n",
      "h5py                         3.7.0\n",
      "idna                         3.3\n",
      "ipykernel                    6.15.0\n",
      "ipython                      8.4.0\n",
      "ipython-genutils             0.2.0\n",
      "ipywidgets                   7.7.0\n",
      "jedi                         0.18.1\n",
      "Jinja2                       3.1.2\n",
      "joblib                       1.1.0\n",
      "json5                        0.9.8\n",
      "jsonschema                   4.6.0\n",
      "jupyter                      1.0.0\n",
      "jupyter-client               7.3.4\n",
      "jupyter-console              6.4.3\n",
      "jupyter-core                 4.10.0\n",
      "jupyter-server               1.17.1\n",
      "jupyter-server-mathjax       0.2.5\n",
      "jupyterlab                   3.4.3\n",
      "jupyterlab-pygments          0.2.2\n",
      "jupyterlab-server            2.14.0\n",
      "jupyterlab-widgets           1.1.0\n",
      "jupyterthemes                0.20.0\n",
      "keras                        2.9.0\n",
      "Keras-Preprocessing          1.1.2\n",
      "kiwisolver                   1.4.3\n",
      "lab                          7.1\n",
      "lesscpy                      0.15.0\n",
      "libclang                     14.0.1\n",
      "Markdown                     3.3.7\n",
      "MarkupSafe                   2.1.1\n",
      "matplotlib                   3.5.2\n",
      "matplotlib-inline            0.1.3\n",
      "mistune                      0.8.4\n",
      "nbclassic                    0.3.7\n",
      "nbclient                     0.6.4\n",
      "nbconvert                    6.5.0\n",
      "nbdime                       3.1.1\n",
      "nbformat                     5.4.0\n",
      "nest-asyncio                 1.5.5\n",
      "notebook                     6.4.12\n",
      "notebook-shim                0.1.0\n",
      "numpy                        1.22.4\n",
      "oauthlib                     3.2.0\n",
      "opt-einsum                   3.3.0\n",
      "packaging                    21.3\n",
      "pandas                       1.4.2\n",
      "pandocfilters                1.5.0\n",
      "parso                        0.8.3\n",
      "pexpect                      4.8.0\n",
      "pickleshare                  0.7.5\n",
      "Pillow                       9.1.1\n",
      "pip                          22.1.2\n",
      "ply                          3.11\n",
      "prometheus-client            0.14.1\n",
      "prompt-toolkit               3.0.29\n",
      "protobuf                     3.19.4\n",
      "psutil                       5.9.1\n",
      "ptyprocess                   0.7.0\n",
      "pure-eval                    0.2.2\n",
      "pyasn1                       0.4.8\n",
      "pyasn1-modules               0.2.8\n",
      "pycparser                    2.21\n",
      "Pygments                     2.12.0\n",
      "pyparsing                    3.0.9\n",
      "pyrsistent                   0.18.1\n",
      "python-dateutil              2.8.2\n",
      "pytz                         2022.1\n",
      "pywin32                      304\n",
      "pywinpty                     2.0.5\n",
      "pyzmq                        23.1.0\n",
      "qtconsole                    5.3.1\n",
      "QtPy                         2.1.0\n",
      "requests                     2.28.0\n",
      "requests-oauthlib            1.3.1\n",
      "rsa                          4.8\n",
      "scikit-learn                 1.1.1\n",
      "scipy                        1.8.1\n",
      "seaborn                      0.11.2\n",
      "Send2Trash                   1.8.0\n",
      "setuptools                   58.1.0\n",
      "simplejson                   3.17.6\n",
      "six                          1.16.0\n",
      "sklearn                      0.0\n",
      "smmap                        5.0.0\n",
      "sniffio                      1.2.0\n",
      "soupsieve                    2.3.2.post1\n",
      "stack-data                   0.3.0\n",
      "tensorboard                  2.9.1\n",
      "tensorboard-data-server      0.6.1\n",
      "tensorboard-plugin-wit       1.8.1\n",
      "tensorflow-estimator         2.9.0\n",
      "tensorflow-gpu               2.9.1\n",
      "tensorflow-io-gcs-filesystem 0.26.0\n",
      "termcolor                    1.1.0\n",
      "terminado                    0.15.0\n",
      "threadpoolctl                3.1.0\n",
      "tinycss2                     1.1.1\n",
      "tornado                      6.1\n",
      "traitlets                    5.3.0\n",
      "txt2tags                     3.7\n",
      "typing_extensions            4.2.0\n",
      "urllib3                      1.26.9\n",
      "wcwidth                      0.2.5\n",
      "webencodings                 0.5.1\n",
      "websocket-client             1.3.3\n",
      "Werkzeug                     2.1.2\n",
      "wheel                        0.37.1\n",
      "widgetsnbextension           3.6.0\n",
      "wrapt                        1.14.1\n"
     ]
    }
   ],
   "source": [
    "!pip list"
   ]
  },
  {
   "cell_type": "code",
   "execution_count": 52,
   "metadata": {},
   "outputs": [
    {
     "name": "stdout",
     "output_type": "stream",
     "text": [
      "Num GPUs Available:  0\n"
     ]
    }
   ],
   "source": [
    "print(\"Num GPUs Available: \", len(tf.config.list_physical_devices('GPU')))"
   ]
  },
  {
   "cell_type": "code",
   "execution_count": 53,
   "metadata": {},
   "outputs": [
    {
     "data": {
      "text/plain": [
       "[]"
      ]
     },
     "execution_count": 53,
     "metadata": {},
     "output_type": "execute_result"
    }
   ],
   "source": [
    "tf.config.list_physical_devices('GPU')"
   ]
  },
  {
   "cell_type": "code",
   "execution_count": null,
   "metadata": {},
   "outputs": [],
   "source": []
  },
  {
   "cell_type": "code",
   "execution_count": null,
   "metadata": {},
   "outputs": [],
   "source": []
  }
 ],
 "metadata": {
  "kernelspec": {
   "display_name": "Python 3 (ipykernel)",
   "language": "python",
   "name": "python3"
  },
  "language_info": {
   "codemirror_mode": {
    "name": "ipython",
    "version": 3
   },
   "file_extension": ".py",
   "mimetype": "text/x-python",
   "name": "python",
   "nbconvert_exporter": "python",
   "pygments_lexer": "ipython3",
   "version": "3.10.5"
  }
 },
 "nbformat": 4,
 "nbformat_minor": 4
}
